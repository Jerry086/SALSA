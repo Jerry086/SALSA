{
  "nbformat": 4,
  "nbformat_minor": 0,
  "metadata": {
    "colab": {
      "provenance": []
    },
    "kernelspec": {
      "name": "python3",
      "display_name": "Python 3"
    },
    "language_info": {
      "name": "python"
    }
  },
  "cells": [
    {
      "cell_type": "code",
      "source": [
        "!pip uninstall hear_mn -y  # Ensure removal of the existing installation\n",
        "!pip install -e 'git+https://github.com/fschmid56/EfficientAT_HEAR@0.0.2#egg=hear_mn'\n"
      ],
      "metadata": {
        "id": "hNPcKZvwSnFP",
        "outputId": "ffefaf52-4f96-4d86-81d4-81ec233accd5",
        "colab": {
          "base_uri": "https://localhost:8080/"
        }
      },
      "execution_count": null,
      "outputs": [
        {
          "output_type": "stream",
          "name": "stdout",
          "text": [
            "\u001b[33mWARNING: Skipping hear_mn as it is not installed.\u001b[0m\u001b[33m\n",
            "\u001b[0mObtaining hear_mn from git+https://github.com/fschmid56/EfficientAT_HEAR@0.0.2#egg=hear_mn\n",
            "  Updating ./src/hear-mn clone (to revision 0.0.2)\n",
            "  Running command git fetch -q --tags\n",
            "  Running command git reset --hard -q f7c022f176ee51aa3919b0666a9932729fceb7db\n",
            "  Preparing metadata (setup.py) ... \u001b[?25l\u001b[?25hdone\n",
            "Installing collected packages: hear_mn\n",
            "  Running setup.py develop for hear_mn\n",
            "Successfully installed hear_mn-0.0.0\n"
          ]
        }
      ]
    },
    {
      "cell_type": "code",
      "source": [
        "!pip install torch==1.11.0+cu102 torchvision==0.12.0+cu102 torchaudio==0.11.0+cu102 --extra-index-url https://download.pytorch.org/whl/cu102"
      ],
      "metadata": {
        "colab": {
          "base_uri": "https://localhost:8080/"
        },
        "id": "FaaRvADCSya3",
        "outputId": "b3fafbc0-24be-4f44-b6df-ec606f975dcf"
      },
      "execution_count": null,
      "outputs": [
        {
          "output_type": "stream",
          "name": "stdout",
          "text": [
            "Looking in indexes: https://pypi.org/simple, https://download.pytorch.org/whl/cu102\n",
            "Requirement already satisfied: torch==1.11.0+cu102 in /usr/local/lib/python3.10/dist-packages (1.11.0+cu102)\n",
            "Requirement already satisfied: torchvision==0.12.0+cu102 in /usr/local/lib/python3.10/dist-packages (0.12.0+cu102)\n",
            "Requirement already satisfied: torchaudio==0.11.0+cu102 in /usr/local/lib/python3.10/dist-packages (0.11.0+cu102)\n",
            "Requirement already satisfied: typing-extensions in /usr/local/lib/python3.10/dist-packages (from torch==1.11.0+cu102) (4.9.0)\n",
            "Requirement already satisfied: numpy in /usr/local/lib/python3.10/dist-packages (from torchvision==0.12.0+cu102) (1.23.5)\n",
            "Requirement already satisfied: requests in /usr/local/lib/python3.10/dist-packages (from torchvision==0.12.0+cu102) (2.31.0)\n",
            "Requirement already satisfied: pillow!=8.3.*,>=5.3.0 in /usr/local/lib/python3.10/dist-packages (from torchvision==0.12.0+cu102) (9.4.0)\n",
            "Requirement already satisfied: charset-normalizer<4,>=2 in /usr/local/lib/python3.10/dist-packages (from requests->torchvision==0.12.0+cu102) (3.3.2)\n",
            "Requirement already satisfied: idna<4,>=2.5 in /usr/local/lib/python3.10/dist-packages (from requests->torchvision==0.12.0+cu102) (3.6)\n",
            "Requirement already satisfied: urllib3<3,>=1.21.1 in /usr/local/lib/python3.10/dist-packages (from requests->torchvision==0.12.0+cu102) (2.0.7)\n",
            "Requirement already satisfied: certifi>=2017.4.17 in /usr/local/lib/python3.10/dist-packages (from requests->torchvision==0.12.0+cu102) (2024.2.2)\n"
          ]
        }
      ]
    },
    {
      "cell_type": "code",
      "source": [
        "from google.colab import drive\n",
        "drive.mount('/content/drive')"
      ],
      "metadata": {
        "colab": {
          "base_uri": "https://localhost:8080/"
        },
        "id": "vvI_WTH_YBuI",
        "outputId": "a8d0fad0-68b3-4787-c6d3-4f85b0bb9f42"
      },
      "execution_count": null,
      "outputs": [
        {
          "output_type": "stream",
          "name": "stdout",
          "text": [
            "Mounted at /content/drive\n"
          ]
        }
      ]
    },
    {
      "cell_type": "code",
      "source": [
        "!pip show hear_mn\n"
      ],
      "metadata": {
        "id": "7ahAN-z1aX8K",
        "outputId": "ced8d986-dc97-4a4c-bd32-cb3ba312f023",
        "colab": {
          "base_uri": "https://localhost:8080/"
        }
      },
      "execution_count": null,
      "outputs": [
        {
          "output_type": "stream",
          "name": "stdout",
          "text": [
            "Name: hear-mn\n",
            "Version: 0.0.0\n",
            "Summary: MobileNet pretrained model for HEAR 2021 NeurIPS Competition\n",
            "Home-page: https://github.com/fschmid56/EfficientAT\n",
            "Author: Florian Schmid\n",
            "Author-email: florian.schmid@jku.at\n",
            "License: Apache-2.0\n",
            "Location: /content/src/hear-mn\n",
            "Editable project location: /content/src/hear-mn\n",
            "Requires: \n",
            "Required-by: \n"
          ]
        }
      ]
    },
    {
      "cell_type": "code",
      "source": [
        "import hear_mn\n",
        "import os\n",
        "\n",
        "import site\n",
        "print(site.getsitepackages())\n",
        "\n",
        "\n",
        "hear_mn_dir = os.path.dirname(hear_mn.__file__)\n",
        "print(f\"Does the directory exist? {os.path.exists(hear_mn_dir)}\")\n",
        "print(f\"Is it a directory? {os.path.isdir(hear_mn_dir)}\")\n",
        "\n"
      ],
      "metadata": {
        "colab": {
          "base_uri": "https://localhost:8080/"
        },
        "id": "seSZr5ZzY2Sn",
        "outputId": "ca8c9eb7-19ba-4b96-9faa-391498d92219"
      },
      "execution_count": null,
      "outputs": [
        {
          "output_type": "stream",
          "name": "stdout",
          "text": [
            "['/usr/local/lib/python3.10/dist-packages', '/usr/lib/python3/dist-packages', '/usr/lib/python3.10/dist-packages']\n",
            "Does the directory exist? False\n",
            "Is it a directory? False\n"
          ]
        }
      ]
    },
    {
      "cell_type": "code",
      "execution_count": null,
      "metadata": {
        "colab": {
          "base_uri": "https://localhost:8080/",
          "height": 395
        },
        "id": "c-nU1u0rSStj",
        "outputId": "fc5e95d7-e405-46ce-cf22-8b80cb7dff67"
      },
      "outputs": [
        {
          "output_type": "error",
          "ename": "ImportError",
          "evalue": "cannot import name 'mn01_all_b_mel_avgs' from 'hear_mn' (/usr/local/lib/python3.10/dist-packages/hear_mn/__init__.py)",
          "traceback": [
            "\u001b[0;31m---------------------------------------------------------------------------\u001b[0m",
            "\u001b[0;31mImportError\u001b[0m                               Traceback (most recent call last)",
            "\u001b[0;32m<ipython-input-26-509c74b93d77>\u001b[0m in \u001b[0;36m<cell line: 3>\u001b[0;34m()\u001b[0m\n\u001b[1;32m      1\u001b[0m \u001b[0;32mimport\u001b[0m \u001b[0mtorch\u001b[0m\u001b[0;34m\u001b[0m\u001b[0;34m\u001b[0m\u001b[0m\n\u001b[1;32m      2\u001b[0m \u001b[0;32mimport\u001b[0m \u001b[0mlibrosa\u001b[0m\u001b[0;34m\u001b[0m\u001b[0;34m\u001b[0m\u001b[0m\n\u001b[0;32m----> 3\u001b[0;31m \u001b[0;32mfrom\u001b[0m \u001b[0mhear_mn\u001b[0m \u001b[0;32mimport\u001b[0m \u001b[0mmn01_all_b_mel_avgs\u001b[0m\u001b[0;34m\u001b[0m\u001b[0;34m\u001b[0m\u001b[0m\n\u001b[0m\u001b[1;32m      4\u001b[0m \u001b[0;34m\u001b[0m\u001b[0m\n\u001b[1;32m      5\u001b[0m \u001b[0maudio_path\u001b[0m \u001b[0;34m=\u001b[0m \u001b[0;34m\"/content/drive/MyDrive/NEU/wav/bird.WAV\"\u001b[0m\u001b[0;34m\u001b[0m\u001b[0;34m\u001b[0m\u001b[0m\n",
            "\u001b[0;31mImportError\u001b[0m: cannot import name 'mn01_all_b_mel_avgs' from 'hear_mn' (/usr/local/lib/python3.10/dist-packages/hear_mn/__init__.py)",
            "",
            "\u001b[0;31m---------------------------------------------------------------------------\u001b[0;32m\nNOTE: If your import is failing due to a missing package, you can\nmanually install dependencies using either !pip or !apt.\n\nTo view examples of installing some common dependencies, click the\n\"Open Examples\" button below.\n\u001b[0;31m---------------------------------------------------------------------------\u001b[0m\n"
          ],
          "errorDetails": {
            "actions": [
              {
                "action": "open_url",
                "actionText": "Open Examples",
                "url": "/notebooks/snippets/importing_libraries.ipynb"
              }
            ]
          }
        }
      ],
      "source": [
        "import torch\n",
        "import librosa\n",
        "from hear_mn import mn01_all_b_mel_avgs\n",
        "\n",
        "audio_path = \"/content/drive/MyDrive/NEU/wav/bird.WAV\"\n",
        "audio_waveform, sample_rate = librosa.load(audio_path, sr=32000, mono=True)\n",
        "audio = torch.tensor(audio_waveform).unsqueeze(0)\n",
        "\n",
        "wrapper = mn01_all_b_mel_avgs.load_model().cuda()\n",
        "\n",
        "embed, time_stamps = mn01_all_b_mel_avgs.get_timestamp_embeddings(audio, wrapper)\n",
        "print(embed.shape)\n",
        "embed = mn01_all_b_mel_avgs.get_scene_embeddings(audio, wrapper)\n",
        "print(embed.shape)"
      ]
    }
  ]
}