{
  "nbformat": 4,
  "nbformat_minor": 0,
  "metadata": {
    "colab": {
      "provenance": []
    },
    "kernelspec": {
      "name": "python3",
      "display_name": "Python 3"
    },
    "language_info": {
      "name": "python"
    }
  },
  "cells": [
    {
      "cell_type": "markdown",
      "metadata": {
        "id": "PPUqQtVHKggi"
      },
      "source": [
        "#VGGish Audio Embedding Colab"
      ]
    },
    {
      "cell_type": "markdown",
      "metadata": {
        "id": "cuhXsmvIKL62"
      },
      "source": [
        "This colab demonstrates how to extract the AudioSet embeddings, using a VGGish deep neural network (DNN).\n",
        "\n",
        "It's an updated version of [malcolmslaney's original](https://colab.research.google.com/drive/1TbX92UL9sYWbdwdGE0rJ9owmezB-Rl1C#scrollTo=2qiXIggxzusy), modified to work with the updated tensorflow/models VGGish distribution, as well as TensorFlow 2."
      ]
    },
    {
      "cell_type": "markdown",
      "metadata": {
        "id": "PAE4O-fK-RW2"
      },
      "source": [
        "#Importing and Testing the VGGish System"
      ]
    },
    {
      "cell_type": "markdown",
      "metadata": {
        "id": "IKSLc0bIB1QS"
      },
      "source": [
        "Based on the directions at: https://github.com/tensorflow/models/tree/master/research/audioset/vggish"
      ]
    },
    {
      "cell_type": "code",
      "metadata": {
        "id": "O1YVQb-MBiUx",
        "colab": {
          "base_uri": "https://localhost:8080/"
        },
        "outputId": "385ad7f1-37fd-4c96-9f25-4e41dee4e18b"
      },
      "source": [
        "!pip install numpy scipy\n",
        "!pip install resampy tensorflow\n",
        "!pip install tf_slim"
      ],
      "execution_count": null,
      "outputs": [
        {
          "output_type": "stream",
          "name": "stdout",
          "text": [
            "Requirement already satisfied: numpy in /usr/local/lib/python3.10/dist-packages (1.25.2)\n",
            "Requirement already satisfied: scipy in /usr/local/lib/python3.10/dist-packages (1.11.4)\n",
            "Collecting resampy\n",
            "  Downloading resampy-0.4.2-py3-none-any.whl (3.1 MB)\n",
            "\u001b[2K     \u001b[90m━━━━━━━━━━━━━━━━━━━━━━━━━━━━━━━━━━━━━━━━\u001b[0m \u001b[32m3.1/3.1 MB\u001b[0m \u001b[31m12.2 MB/s\u001b[0m eta \u001b[36m0:00:00\u001b[0m\n",
            "\u001b[?25hRequirement already satisfied: tensorflow in /usr/local/lib/python3.10/dist-packages (2.15.0)\n",
            "Requirement already satisfied: numpy>=1.17 in /usr/local/lib/python3.10/dist-packages (from resampy) (1.25.2)\n",
            "Requirement already satisfied: numba>=0.53 in /usr/local/lib/python3.10/dist-packages (from resampy) (0.58.1)\n",
            "Requirement already satisfied: absl-py>=1.0.0 in /usr/local/lib/python3.10/dist-packages (from tensorflow) (1.4.0)\n",
            "Requirement already satisfied: astunparse>=1.6.0 in /usr/local/lib/python3.10/dist-packages (from tensorflow) (1.6.3)\n",
            "Requirement already satisfied: flatbuffers>=23.5.26 in /usr/local/lib/python3.10/dist-packages (from tensorflow) (23.5.26)\n",
            "Requirement already satisfied: gast!=0.5.0,!=0.5.1,!=0.5.2,>=0.2.1 in /usr/local/lib/python3.10/dist-packages (from tensorflow) (0.5.4)\n",
            "Requirement already satisfied: google-pasta>=0.1.1 in /usr/local/lib/python3.10/dist-packages (from tensorflow) (0.2.0)\n",
            "Requirement already satisfied: h5py>=2.9.0 in /usr/local/lib/python3.10/dist-packages (from tensorflow) (3.9.0)\n",
            "Requirement already satisfied: libclang>=13.0.0 in /usr/local/lib/python3.10/dist-packages (from tensorflow) (16.0.6)\n",
            "Requirement already satisfied: ml-dtypes~=0.2.0 in /usr/local/lib/python3.10/dist-packages (from tensorflow) (0.2.0)\n",
            "Requirement already satisfied: opt-einsum>=2.3.2 in /usr/local/lib/python3.10/dist-packages (from tensorflow) (3.3.0)\n",
            "Requirement already satisfied: packaging in /usr/local/lib/python3.10/dist-packages (from tensorflow) (23.2)\n",
            "Requirement already satisfied: protobuf!=4.21.0,!=4.21.1,!=4.21.2,!=4.21.3,!=4.21.4,!=4.21.5,<5.0.0dev,>=3.20.3 in /usr/local/lib/python3.10/dist-packages (from tensorflow) (3.20.3)\n",
            "Requirement already satisfied: setuptools in /usr/local/lib/python3.10/dist-packages (from tensorflow) (67.7.2)\n",
            "Requirement already satisfied: six>=1.12.0 in /usr/local/lib/python3.10/dist-packages (from tensorflow) (1.16.0)\n",
            "Requirement already satisfied: termcolor>=1.1.0 in /usr/local/lib/python3.10/dist-packages (from tensorflow) (2.4.0)\n",
            "Requirement already satisfied: typing-extensions>=3.6.6 in /usr/local/lib/python3.10/dist-packages (from tensorflow) (4.9.0)\n",
            "Requirement already satisfied: wrapt<1.15,>=1.11.0 in /usr/local/lib/python3.10/dist-packages (from tensorflow) (1.14.1)\n",
            "Requirement already satisfied: tensorflow-io-gcs-filesystem>=0.23.1 in /usr/local/lib/python3.10/dist-packages (from tensorflow) (0.36.0)\n",
            "Requirement already satisfied: grpcio<2.0,>=1.24.3 in /usr/local/lib/python3.10/dist-packages (from tensorflow) (1.60.1)\n",
            "Requirement already satisfied: tensorboard<2.16,>=2.15 in /usr/local/lib/python3.10/dist-packages (from tensorflow) (2.15.2)\n",
            "Requirement already satisfied: tensorflow-estimator<2.16,>=2.15.0 in /usr/local/lib/python3.10/dist-packages (from tensorflow) (2.15.0)\n",
            "Requirement already satisfied: keras<2.16,>=2.15.0 in /usr/local/lib/python3.10/dist-packages (from tensorflow) (2.15.0)\n",
            "Requirement already satisfied: wheel<1.0,>=0.23.0 in /usr/local/lib/python3.10/dist-packages (from astunparse>=1.6.0->tensorflow) (0.42.0)\n",
            "Requirement already satisfied: llvmlite<0.42,>=0.41.0dev0 in /usr/local/lib/python3.10/dist-packages (from numba>=0.53->resampy) (0.41.1)\n",
            "Requirement already satisfied: google-auth<3,>=1.6.3 in /usr/local/lib/python3.10/dist-packages (from tensorboard<2.16,>=2.15->tensorflow) (2.27.0)\n",
            "Requirement already satisfied: google-auth-oauthlib<2,>=0.5 in /usr/local/lib/python3.10/dist-packages (from tensorboard<2.16,>=2.15->tensorflow) (1.2.0)\n",
            "Requirement already satisfied: markdown>=2.6.8 in /usr/local/lib/python3.10/dist-packages (from tensorboard<2.16,>=2.15->tensorflow) (3.5.2)\n",
            "Requirement already satisfied: requests<3,>=2.21.0 in /usr/local/lib/python3.10/dist-packages (from tensorboard<2.16,>=2.15->tensorflow) (2.31.0)\n",
            "Requirement already satisfied: tensorboard-data-server<0.8.0,>=0.7.0 in /usr/local/lib/python3.10/dist-packages (from tensorboard<2.16,>=2.15->tensorflow) (0.7.2)\n",
            "Requirement already satisfied: werkzeug>=1.0.1 in /usr/local/lib/python3.10/dist-packages (from tensorboard<2.16,>=2.15->tensorflow) (3.0.1)\n",
            "Requirement already satisfied: cachetools<6.0,>=2.0.0 in /usr/local/lib/python3.10/dist-packages (from google-auth<3,>=1.6.3->tensorboard<2.16,>=2.15->tensorflow) (5.3.2)\n",
            "Requirement already satisfied: pyasn1-modules>=0.2.1 in /usr/local/lib/python3.10/dist-packages (from google-auth<3,>=1.6.3->tensorboard<2.16,>=2.15->tensorflow) (0.3.0)\n",
            "Requirement already satisfied: rsa<5,>=3.1.4 in /usr/local/lib/python3.10/dist-packages (from google-auth<3,>=1.6.3->tensorboard<2.16,>=2.15->tensorflow) (4.9)\n",
            "Requirement already satisfied: requests-oauthlib>=0.7.0 in /usr/local/lib/python3.10/dist-packages (from google-auth-oauthlib<2,>=0.5->tensorboard<2.16,>=2.15->tensorflow) (1.3.1)\n",
            "Requirement already satisfied: charset-normalizer<4,>=2 in /usr/local/lib/python3.10/dist-packages (from requests<3,>=2.21.0->tensorboard<2.16,>=2.15->tensorflow) (3.3.2)\n",
            "Requirement already satisfied: idna<4,>=2.5 in /usr/local/lib/python3.10/dist-packages (from requests<3,>=2.21.0->tensorboard<2.16,>=2.15->tensorflow) (3.6)\n",
            "Requirement already satisfied: urllib3<3,>=1.21.1 in /usr/local/lib/python3.10/dist-packages (from requests<3,>=2.21.0->tensorboard<2.16,>=2.15->tensorflow) (2.0.7)\n",
            "Requirement already satisfied: certifi>=2017.4.17 in /usr/local/lib/python3.10/dist-packages (from requests<3,>=2.21.0->tensorboard<2.16,>=2.15->tensorflow) (2024.2.2)\n",
            "Requirement already satisfied: MarkupSafe>=2.1.1 in /usr/local/lib/python3.10/dist-packages (from werkzeug>=1.0.1->tensorboard<2.16,>=2.15->tensorflow) (2.1.5)\n",
            "Requirement already satisfied: pyasn1<0.6.0,>=0.4.6 in /usr/local/lib/python3.10/dist-packages (from pyasn1-modules>=0.2.1->google-auth<3,>=1.6.3->tensorboard<2.16,>=2.15->tensorflow) (0.5.1)\n",
            "Requirement already satisfied: oauthlib>=3.0.0 in /usr/local/lib/python3.10/dist-packages (from requests-oauthlib>=0.7.0->google-auth-oauthlib<2,>=0.5->tensorboard<2.16,>=2.15->tensorflow) (3.2.2)\n",
            "Installing collected packages: resampy\n",
            "Successfully installed resampy-0.4.2\n",
            "Requirement already satisfied: tf_slim in /usr/local/lib/python3.10/dist-packages (1.1.0)\n",
            "Requirement already satisfied: absl-py>=0.2.2 in /usr/local/lib/python3.10/dist-packages (from tf_slim) (1.4.0)\n"
          ]
        }
      ]
    },
    {
      "cell_type": "code",
      "metadata": {
        "id": "Zr8LazsbrZLp"
      },
      "source": [
        "!rm -rf models"
      ],
      "execution_count": null,
      "outputs": []
    },
    {
      "cell_type": "code",
      "metadata": {
        "id": "kN7yMJ3BBu_Q",
        "colab": {
          "base_uri": "https://localhost:8080/"
        },
        "outputId": "4f27a863-7660-42f9-d3d6-f2d250bf1d66"
      },
      "source": [
        "!git clone https://github.com/tensorflow/models.git"
      ],
      "execution_count": null,
      "outputs": [
        {
          "output_type": "stream",
          "name": "stdout",
          "text": [
            "Cloning into 'models'...\n",
            "remote: Enumerating objects: 93002, done.\u001b[K\n",
            "remote: Counting objects: 100% (2892/2892), done.\u001b[K\n",
            "remote: Compressing objects: 100% (1675/1675), done.\u001b[K\n",
            "remote: Total 93002 (delta 1280), reused 2776 (delta 1193), pack-reused 90110\u001b[K\n",
            "Receiving objects: 100% (93002/93002), 616.94 MiB | 25.80 MiB/s, done.\n",
            "Resolving deltas: 100% (66217/66217), done.\n"
          ]
        }
      ]
    },
    {
      "cell_type": "code",
      "metadata": {
        "id": "jOutr-RFCFfD",
        "colab": {
          "base_uri": "https://localhost:8080/"
        },
        "outputId": "025c0493-be56-4741-bb95-35703cf9e213"
      },
      "source": [
        "# Check to see where are in the kernel's file system.\n",
        "!pwd"
      ],
      "execution_count": null,
      "outputs": [
        {
          "output_type": "stream",
          "name": "stdout",
          "text": [
            "/content\n"
          ]
        }
      ]
    },
    {
      "cell_type": "code",
      "metadata": {
        "id": "7CVgYDQ2CG4K",
        "colab": {
          "base_uri": "https://localhost:8080/"
        },
        "outputId": "2b7ed5e1-c35f-485b-9939-eb278fd9f5c7"
      },
      "source": [
        "# Grab the VGGish model\n",
        "!curl -O https://storage.googleapis.com/audioset/vggish_model.ckpt\n",
        "!curl -O https://storage.googleapis.com/audioset/vggish_pca_params.npz"
      ],
      "execution_count": null,
      "outputs": [
        {
          "output_type": "stream",
          "name": "stdout",
          "text": [
            "  % Total    % Received % Xferd  Average Speed   Time    Time     Time  Current\n",
            "                                 Dload  Upload   Total   Spent    Left  Speed\n",
            "100  277M  100  277M    0     0  87.5M      0  0:00:03  0:00:03 --:--:-- 87.6M\n",
            "  % Total    % Received % Xferd  Average Speed   Time    Time     Time  Current\n",
            "                                 Dload  Upload   Total   Spent    Left  Speed\n",
            "100 73020  100 73020    0     0   519k      0 --:--:-- --:--:-- --:--:--  520k\n"
          ]
        }
      ]
    },
    {
      "cell_type": "code",
      "metadata": {
        "id": "xEl3w-RjCPwp",
        "colab": {
          "base_uri": "https://localhost:8080/"
        },
        "outputId": "ce8a8380-03cd-4ba4-e2ce-649bd06ce902"
      },
      "source": [
        "# Make sure we got the model data.\n",
        "!ls"
      ],
      "execution_count": null,
      "outputs": [
        {
          "output_type": "stream",
          "name": "stdout",
          "text": [
            "models\tsample_data  vggish_model.ckpt\tvggish_pca_params.npz\n"
          ]
        }
      ]
    },
    {
      "cell_type": "code",
      "metadata": {
        "id": "WbtPmmX-CTHB",
        "colab": {
          "base_uri": "https://localhost:8080/"
        },
        "outputId": "04c2721f-bf75-4a52-917f-623f384f2b0f"
      },
      "source": [
        "# Verify the location of the AudioSet source files\n",
        "!ls models/research/audioset/vggish"
      ],
      "execution_count": null,
      "outputs": [
        {
          "output_type": "stream",
          "name": "stdout",
          "text": [
            "mel_features.py   vggish_export_tfhub.py    vggish_params.py\t   vggish_smoke_test.py\n",
            "README.md\t  vggish_inference_demo.py  vggish_postprocess.py  vggish_train_demo.py\n",
            "requirements.txt  vggish_input.py\t    vggish_slim.py\n"
          ]
        }
      ]
    },
    {
      "cell_type": "code",
      "metadata": {
        "id": "oApFn6gzCvsa"
      },
      "source": [
        "# Copy the source files to the current directory.\n",
        "!cp models/research/audioset/vggish/* ."
      ],
      "execution_count": null,
      "outputs": []
    },
    {
      "cell_type": "code",
      "metadata": {
        "id": "DaMrmOEvC7L4",
        "colab": {
          "base_uri": "https://localhost:8080/"
        },
        "outputId": "694255fb-41c4-4a2b-c255-e44bae0a40b7"
      },
      "source": [
        "# Make sure the source files got copied correctly.\n",
        "!ls"
      ],
      "execution_count": null,
      "outputs": [
        {
          "output_type": "stream",
          "name": "stdout",
          "text": [
            "mel_features.py   sample_data\t\t    vggish_model.ckpt\t   vggish_slim.py\n",
            "models\t\t  vggish_export_tfhub.py    vggish_params.py\t   vggish_smoke_test.py\n",
            "README.md\t  vggish_inference_demo.py  vggish_pca_params.npz  vggish_train_demo.py\n",
            "requirements.txt  vggish_input.py\t    vggish_postprocess.py\n"
          ]
        }
      ]
    },
    {
      "cell_type": "code",
      "metadata": {
        "id": "9BKF-1dzDhnz"
      },
      "source": [
        "# Run the test, which also loads all the necessary functions.\n",
        "from vggish_smoke_test import *"
      ],
      "execution_count": null,
      "outputs": []
    },
    {
      "cell_type": "code",
      "source": [
        "# path of wav files\n",
        "audio1 = \"/content/1-aircraft1.wav\"\n",
        "audio2 = \"/content/8-clap.wav\"\n",
        "long_audio = \"/content/bird.wav\""
      ],
      "metadata": {
        "id": "1ZDqusuM_GCW"
      },
      "execution_count": null,
      "outputs": []
    },
    {
      "cell_type": "code",
      "source": [
        "# VGGish demo\n",
        "!python vggish_inference_demo.py --wav_file \"/content/1-aircraft1.wav\""
      ],
      "metadata": {
        "id": "YBdV6iLoAK-9"
      },
      "execution_count": null,
      "outputs": []
    },
    {
      "cell_type": "code",
      "source": [
        "from __future__ import print_function\n",
        "\n",
        "import numpy as np\n",
        "import six\n",
        "import soundfile\n",
        "import tensorflow.compat.v1 as tf\n",
        "\n",
        "import vggish_input\n",
        "import vggish_params\n",
        "import vggish_postprocess\n",
        "import vggish_slim\n",
        "import soundfile as sf"
      ],
      "metadata": {
        "id": "zuBJBxIGCuW2"
      },
      "execution_count": null,
      "outputs": []
    },
    {
      "cell_type": "code",
      "source": [
        "# dimensions of computed input features\n",
        "test = vggish_input.wavfile_to_examples(audio1)\n",
        "print(test.shape)"
      ],
      "metadata": {
        "colab": {
          "base_uri": "https://localhost:8080/"
        },
        "id": "Nipbt0tIRN8T",
        "outputId": "1bc04fa2-b619-44fb-a904-d331d4c008db"
      },
      "execution_count": null,
      "outputs": [
        {
          "output_type": "stream",
          "name": "stdout",
          "text": [
            "(910, 96, 64)\n"
          ]
        }
      ]
    },
    {
      "cell_type": "code",
      "source": [
        "# restore PCA parameters\n",
        "pproc = vggish_postprocess.Postprocessor('vggish_pca_params.npz')"
      ],
      "metadata": {
        "id": "_5MFcAr9Dcvg"
      },
      "execution_count": null,
      "outputs": []
    },
    {
      "cell_type": "code",
      "source": [
        "# genenrate embeddings from wav file\n",
        "def generate_embeddings(wav_file):\n",
        "  example_batch = vggish_input.wavfile_to_examples(wav_file)\n",
        "  with tf.Graph().as_default(), tf.Session() as sess:\n",
        "    vggish_slim.define_vggish_slim(training=False)\n",
        "    vggish_slim.load_vggish_slim_checkpoint(sess, 'vggish_model.ckpt')\n",
        "    features_tensor = sess.graph.get_tensor_by_name(vggish_params.INPUT_TENSOR_NAME)\n",
        "    embedding_tensor = sess.graph.get_tensor_by_name(vggish_params.OUTPUT_TENSOR_NAME)\n",
        "    # Run inference and postprocessing.\n",
        "    [embedding] = sess.run([embedding_tensor],feed_dict={features_tensor: example_batch})\n",
        "    postprocessed = pproc.postprocess(embedding)\n",
        "    print(postprocessed)\n",
        "    print(f'{wav_file} embedding shape: {postprocessed.shape}')"
      ],
      "metadata": {
        "id": "zvarCowJDqxd"
      },
      "execution_count": null,
      "outputs": []
    },
    {
      "cell_type": "code",
      "source": [
        "generate_embeddings(audio1)"
      ],
      "metadata": {
        "colab": {
          "base_uri": "https://localhost:8080/"
        },
        "id": "iBj_OqB4POVI",
        "outputId": "3afeb76c-374a-4456-b493-effee6a16b6f"
      },
      "execution_count": null,
      "outputs": [
        {
          "output_type": "stream",
          "name": "stdout",
          "text": [
            "[[ 68 176  44 ... 248 173 191]\n",
            " [ 51 152  82 ... 140 141 140]\n",
            " [ 83 140  50 ... 196 106 204]\n",
            " ...\n",
            " [100 181  71 ... 201  94 138]\n",
            " [  2 246  12 ...  63 108  87]\n",
            " [ 66 195  66 ... 255 223   0]]\n",
            "/content/1-aircraft1.wav embedding shape: (10, 128)\n"
          ]
        }
      ]
    },
    {
      "cell_type": "code",
      "source": [
        "generate_embeddings(long_audio)"
      ],
      "metadata": {
        "colab": {
          "base_uri": "https://localhost:8080/"
        },
        "id": "TQsQfTcYSlvE",
        "outputId": "3f208b25-07b8-493c-97dc-0e7bcde7d2f4"
      },
      "execution_count": null,
      "outputs": [
        {
          "output_type": "stream",
          "name": "stdout",
          "text": [
            "[[ 78  62 167 ... 211 250 201]\n",
            " [ 12 119 147 ... 110 255 160]\n",
            " [  0 239  97 ... 255 255  42]\n",
            " ...\n",
            " [  0 132 146 ... 255 255   0]\n",
            " [  0 133 157 ... 255 255   0]\n",
            " [ 69 115 125 ...  72 255 222]]\n",
            "/content/bird.wav embedding shape: (58, 128)\n"
          ]
        }
      ]
    }
  ]
}