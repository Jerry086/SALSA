{
  "nbformat": 4,
  "nbformat_minor": 0,
  "metadata": {
    "colab": {
      "provenance": [],
      "include_colab_link": true
    },
    "kernelspec": {
      "name": "python3",
      "display_name": "Python 3"
    },
    "language_info": {
      "name": "python"
    },
    "accelerator": "TPU"
  },
  "cells": [
    {
      "cell_type": "markdown",
      "metadata": {
        "id": "view-in-github",
        "colab_type": "text"
      },
      "source": [
        "<a href=\"https://colab.research.google.com/github/Jerry086/SALSA/blob/jerry/VGGish_Audio_Embedding.ipynb\" target=\"_parent\"><img src=\"https://colab.research.google.com/assets/colab-badge.svg\" alt=\"Open In Colab\"/></a>"
      ]
    },
    {
      "cell_type": "markdown",
      "metadata": {
        "id": "PPUqQtVHKggi"
      },
      "source": [
        "#VGGish Audio Embedding"
      ]
    },
    {
      "cell_type": "markdown",
      "metadata": {
        "id": "cuhXsmvIKL62"
      },
      "source": [
        "This colab extracts the AudioSet embeddings using a VGGish deep neural network (DNN)."
      ]
    },
    {
      "cell_type": "markdown",
      "metadata": {
        "id": "PAE4O-fK-RW2"
      },
      "source": [
        "#Importing and Testing the VGGish System"
      ]
    },
    {
      "cell_type": "markdown",
      "metadata": {
        "id": "IKSLc0bIB1QS"
      },
      "source": [
        "Based on the directions at: https://github.com/tensorflow/models/tree/master/research/audioset/vggish"
      ]
    },
    {
      "cell_type": "code",
      "metadata": {
        "id": "O1YVQb-MBiUx",
        "colab": {
          "base_uri": "https://localhost:8080/"
        },
        "outputId": "96af7d83-3707-4850-a4c4-9187baa84d10"
      },
      "source": [
        "!pip install numpy scipy\n",
        "!pip install resampy tensorflow\n",
        "!pip install tf_slim"
      ],
      "execution_count": 1,
      "outputs": [
        {
          "output_type": "stream",
          "name": "stdout",
          "text": [
            "Requirement already satisfied: numpy in /usr/local/lib/python3.10/dist-packages (1.23.5)\n",
            "Requirement already satisfied: scipy in /usr/local/lib/python3.10/dist-packages (1.11.4)\n",
            "Collecting resampy\n",
            "  Downloading resampy-0.4.2-py3-none-any.whl (3.1 MB)\n",
            "\u001b[2K     \u001b[90m━━━━━━━━━━━━━━━━━━━━━━━━━━━━━━━━━━━━━━━━\u001b[0m \u001b[32m3.1/3.1 MB\u001b[0m \u001b[31m5.9 MB/s\u001b[0m eta \u001b[36m0:00:00\u001b[0m\n",
            "\u001b[?25hRequirement already satisfied: tensorflow in /usr/local/lib/python3.10/dist-packages (2.12.0)\n",
            "Requirement already satisfied: numpy>=1.17 in /usr/local/lib/python3.10/dist-packages (from resampy) (1.23.5)\n",
            "Requirement already satisfied: numba>=0.53 in /usr/local/lib/python3.10/dist-packages (from resampy) (0.58.1)\n",
            "Requirement already satisfied: absl-py>=1.0.0 in /usr/local/lib/python3.10/dist-packages (from tensorflow) (1.4.0)\n",
            "Requirement already satisfied: astunparse>=1.6.0 in /usr/local/lib/python3.10/dist-packages (from tensorflow) (1.6.3)\n",
            "Requirement already satisfied: flatbuffers>=2.0 in /usr/local/lib/python3.10/dist-packages (from tensorflow) (23.5.26)\n",
            "Requirement already satisfied: gast<=0.4.0,>=0.2.1 in /usr/local/lib/python3.10/dist-packages (from tensorflow) (0.4.0)\n",
            "Requirement already satisfied: google-pasta>=0.1.1 in /usr/local/lib/python3.10/dist-packages (from tensorflow) (0.2.0)\n",
            "Requirement already satisfied: grpcio<2.0,>=1.24.3 in /usr/local/lib/python3.10/dist-packages (from tensorflow) (1.60.1)\n",
            "Requirement already satisfied: h5py>=2.9.0 in /usr/local/lib/python3.10/dist-packages (from tensorflow) (3.9.0)\n",
            "Requirement already satisfied: jax>=0.3.15 in /usr/local/lib/python3.10/dist-packages (from tensorflow) (0.3.25)\n",
            "Requirement already satisfied: keras<2.13,>=2.12.0 in /usr/local/lib/python3.10/dist-packages (from tensorflow) (2.12.0)\n",
            "Requirement already satisfied: libclang>=13.0.0 in /usr/local/lib/python3.10/dist-packages (from tensorflow) (16.0.6)\n",
            "Requirement already satisfied: opt-einsum>=2.3.2 in /usr/local/lib/python3.10/dist-packages (from tensorflow) (3.3.0)\n",
            "Requirement already satisfied: packaging in /usr/local/lib/python3.10/dist-packages (from tensorflow) (23.2)\n",
            "Requirement already satisfied: protobuf!=4.21.0,!=4.21.1,!=4.21.2,!=4.21.3,!=4.21.4,!=4.21.5,<5.0.0dev,>=3.20.3 in /usr/local/lib/python3.10/dist-packages (from tensorflow) (3.20.3)\n",
            "Requirement already satisfied: setuptools in /usr/local/lib/python3.10/dist-packages (from tensorflow) (67.7.2)\n",
            "Requirement already satisfied: six>=1.12.0 in /usr/local/lib/python3.10/dist-packages (from tensorflow) (1.16.0)\n",
            "Requirement already satisfied: tensorboard<2.13,>=2.12 in /usr/local/lib/python3.10/dist-packages (from tensorflow) (2.12.0)\n",
            "Requirement already satisfied: tensorflow-estimator<2.13,>=2.12.0 in /usr/local/lib/python3.10/dist-packages (from tensorflow) (2.12.0)\n",
            "Requirement already satisfied: termcolor>=1.1.0 in /usr/local/lib/python3.10/dist-packages (from tensorflow) (2.4.0)\n",
            "Requirement already satisfied: typing-extensions>=3.6.6 in /usr/local/lib/python3.10/dist-packages (from tensorflow) (4.9.0)\n",
            "Requirement already satisfied: wrapt<1.15,>=1.11.0 in /usr/local/lib/python3.10/dist-packages (from tensorflow) (1.14.1)\n",
            "Requirement already satisfied: tensorflow-io-gcs-filesystem>=0.23.1 in /usr/local/lib/python3.10/dist-packages (from tensorflow) (0.36.0)\n",
            "Requirement already satisfied: wheel<1.0,>=0.23.0 in /usr/local/lib/python3.10/dist-packages (from astunparse>=1.6.0->tensorflow) (0.42.0)\n",
            "Requirement already satisfied: scipy>=1.5 in /usr/local/lib/python3.10/dist-packages (from jax>=0.3.15->tensorflow) (1.11.4)\n",
            "Requirement already satisfied: llvmlite<0.42,>=0.41.0dev0 in /usr/local/lib/python3.10/dist-packages (from numba>=0.53->resampy) (0.41.1)\n",
            "Requirement already satisfied: google-auth<3,>=1.6.3 in /usr/local/lib/python3.10/dist-packages (from tensorboard<2.13,>=2.12->tensorflow) (2.27.0)\n",
            "Requirement already satisfied: google-auth-oauthlib<0.5,>=0.4.1 in /usr/local/lib/python3.10/dist-packages (from tensorboard<2.13,>=2.12->tensorflow) (0.4.6)\n",
            "Requirement already satisfied: markdown>=2.6.8 in /usr/local/lib/python3.10/dist-packages (from tensorboard<2.13,>=2.12->tensorflow) (3.5.2)\n",
            "Requirement already satisfied: requests<3,>=2.21.0 in /usr/local/lib/python3.10/dist-packages (from tensorboard<2.13,>=2.12->tensorflow) (2.31.0)\n",
            "Requirement already satisfied: tensorboard-data-server<0.8.0,>=0.7.0 in /usr/local/lib/python3.10/dist-packages (from tensorboard<2.13,>=2.12->tensorflow) (0.7.2)\n",
            "Requirement already satisfied: tensorboard-plugin-wit>=1.6.0 in /usr/local/lib/python3.10/dist-packages (from tensorboard<2.13,>=2.12->tensorflow) (1.8.1)\n",
            "Requirement already satisfied: werkzeug>=1.0.1 in /usr/local/lib/python3.10/dist-packages (from tensorboard<2.13,>=2.12->tensorflow) (3.0.1)\n",
            "Requirement already satisfied: cachetools<6.0,>=2.0.0 in /usr/local/lib/python3.10/dist-packages (from google-auth<3,>=1.6.3->tensorboard<2.13,>=2.12->tensorflow) (5.3.2)\n",
            "Requirement already satisfied: pyasn1-modules>=0.2.1 in /usr/local/lib/python3.10/dist-packages (from google-auth<3,>=1.6.3->tensorboard<2.13,>=2.12->tensorflow) (0.3.0)\n",
            "Requirement already satisfied: rsa<5,>=3.1.4 in /usr/local/lib/python3.10/dist-packages (from google-auth<3,>=1.6.3->tensorboard<2.13,>=2.12->tensorflow) (4.9)\n",
            "Requirement already satisfied: requests-oauthlib>=0.7.0 in /usr/local/lib/python3.10/dist-packages (from google-auth-oauthlib<0.5,>=0.4.1->tensorboard<2.13,>=2.12->tensorflow) (1.3.1)\n",
            "Requirement already satisfied: charset-normalizer<4,>=2 in /usr/local/lib/python3.10/dist-packages (from requests<3,>=2.21.0->tensorboard<2.13,>=2.12->tensorflow) (3.3.2)\n",
            "Requirement already satisfied: idna<4,>=2.5 in /usr/local/lib/python3.10/dist-packages (from requests<3,>=2.21.0->tensorboard<2.13,>=2.12->tensorflow) (3.6)\n",
            "Requirement already satisfied: urllib3<3,>=1.21.1 in /usr/local/lib/python3.10/dist-packages (from requests<3,>=2.21.0->tensorboard<2.13,>=2.12->tensorflow) (2.0.7)\n",
            "Requirement already satisfied: certifi>=2017.4.17 in /usr/local/lib/python3.10/dist-packages (from requests<3,>=2.21.0->tensorboard<2.13,>=2.12->tensorflow) (2024.2.2)\n",
            "Requirement already satisfied: MarkupSafe>=2.1.1 in /usr/local/lib/python3.10/dist-packages (from werkzeug>=1.0.1->tensorboard<2.13,>=2.12->tensorflow) (2.1.5)\n",
            "Requirement already satisfied: pyasn1<0.6.0,>=0.4.6 in /usr/local/lib/python3.10/dist-packages (from pyasn1-modules>=0.2.1->google-auth<3,>=1.6.3->tensorboard<2.13,>=2.12->tensorflow) (0.5.1)\n",
            "Requirement already satisfied: oauthlib>=3.0.0 in /usr/local/lib/python3.10/dist-packages (from requests-oauthlib>=0.7.0->google-auth-oauthlib<0.5,>=0.4.1->tensorboard<2.13,>=2.12->tensorflow) (3.2.2)\n",
            "Installing collected packages: resampy\n",
            "Successfully installed resampy-0.4.2\n",
            "Requirement already satisfied: tf_slim in /usr/local/lib/python3.10/dist-packages (1.1.0)\n",
            "Requirement already satisfied: absl-py>=0.2.2 in /usr/local/lib/python3.10/dist-packages (from tf_slim) (1.4.0)\n"
          ]
        }
      ]
    },
    {
      "cell_type": "code",
      "metadata": {
        "id": "kN7yMJ3BBu_Q",
        "colab": {
          "base_uri": "https://localhost:8080/"
        },
        "outputId": "6f9b1b98-ec4f-48d3-f03a-8e9c16eef537"
      },
      "source": [
        "!git clone https://github.com/tensorflow/models.git"
      ],
      "execution_count": 2,
      "outputs": [
        {
          "output_type": "stream",
          "name": "stdout",
          "text": [
            "Cloning into 'models'...\n",
            "remote: Enumerating objects: 93061, done.\u001b[K\n",
            "remote: Counting objects: 100% (2951/2951), done.\u001b[K\n",
            "remote: Compressing objects: 100% (1609/1609), done.\u001b[K\n",
            "remote: Total 93061 (delta 1350), reused 2875 (delta 1318), pack-reused 90110\u001b[K\n",
            "Receiving objects: 100% (93061/93061), 616.93 MiB | 25.85 MiB/s, done.\n",
            "Resolving deltas: 100% (66287/66287), done.\n"
          ]
        }
      ]
    },
    {
      "cell_type": "code",
      "metadata": {
        "id": "7CVgYDQ2CG4K",
        "colab": {
          "base_uri": "https://localhost:8080/"
        },
        "outputId": "0c445d92-8fea-49ac-985e-0ce58ab07260"
      },
      "source": [
        "# Grab the VGGish model\n",
        "!curl -O https://storage.googleapis.com/audioset/vggish_model.ckpt\n",
        "!curl -O https://storage.googleapis.com/audioset/vggish_pca_params.npz"
      ],
      "execution_count": 3,
      "outputs": [
        {
          "output_type": "stream",
          "name": "stdout",
          "text": [
            "  % Total    % Received % Xferd  Average Speed   Time    Time     Time  Current\n",
            "                                 Dload  Upload   Total   Spent    Left  Speed\n",
            "100  277M  100  277M    0     0  93.0M      0  0:00:02  0:00:02 --:--:-- 93.0M\n",
            "  % Total    % Received % Xferd  Average Speed   Time    Time     Time  Current\n",
            "                                 Dload  Upload   Total   Spent    Left  Speed\n",
            "100 73020  100 73020    0     0   422k      0 --:--:-- --:--:-- --:--:--  424k\n"
          ]
        }
      ]
    },
    {
      "cell_type": "code",
      "metadata": {
        "id": "WbtPmmX-CTHB",
        "colab": {
          "base_uri": "https://localhost:8080/"
        },
        "outputId": "ced60546-7774-4308-990a-00825d231076"
      },
      "source": [
        "# Verify the location of the AudioSet source files\n",
        "!ls models/research/audioset/vggish"
      ],
      "execution_count": 4,
      "outputs": [
        {
          "output_type": "stream",
          "name": "stdout",
          "text": [
            "mel_features.py   vggish_export_tfhub.py    vggish_params.py\t   vggish_smoke_test.py\n",
            "README.md\t  vggish_inference_demo.py  vggish_postprocess.py  vggish_train_demo.py\n",
            "requirements.txt  vggish_input.py\t    vggish_slim.py\n"
          ]
        }
      ]
    },
    {
      "cell_type": "code",
      "metadata": {
        "id": "oApFn6gzCvsa"
      },
      "source": [
        "# Copy the source files to the current directory.\n",
        "!cp models/research/audioset/vggish/* ."
      ],
      "execution_count": 5,
      "outputs": []
    },
    {
      "cell_type": "code",
      "metadata": {
        "id": "DaMrmOEvC7L4",
        "colab": {
          "base_uri": "https://localhost:8080/"
        },
        "outputId": "cbebc901-5994-461e-f193-49063e6c36d1"
      },
      "source": [
        "# Make sure the source files got copied correctly.\n",
        "!ls"
      ],
      "execution_count": 6,
      "outputs": [
        {
          "output_type": "stream",
          "name": "stdout",
          "text": [
            "mel_features.py   sample_data\t\t    vggish_model.ckpt\t   vggish_slim.py\n",
            "models\t\t  vggish_export_tfhub.py    vggish_params.py\t   vggish_smoke_test.py\n",
            "README.md\t  vggish_inference_demo.py  vggish_pca_params.npz  vggish_train_demo.py\n",
            "requirements.txt  vggish_input.py\t    vggish_postprocess.py\n"
          ]
        }
      ]
    },
    {
      "cell_type": "code",
      "metadata": {
        "id": "9BKF-1dzDhnz",
        "colab": {
          "base_uri": "https://localhost:8080/"
        },
        "outputId": "e264ff2c-6588-4ab6-e7ce-8d4341836c96"
      },
      "source": [
        "# Run the test, which also loads all the necessary functions.\n",
        "from vggish_smoke_test import *"
      ],
      "execution_count": 7,
      "outputs": [
        {
          "output_type": "stream",
          "name": "stdout",
          "text": [
            "\n",
            "Testing your install of VGGish\n",
            "\n",
            "Resampling via resampy works!\n",
            "Log Mel Spectrogram example:  [[-4.48313252 -4.27083405 -4.17064267 ... -4.60069383 -4.60098887\n",
            "  -4.60116305]\n",
            " [-4.48313252 -4.27083405 -4.17064267 ... -4.60069383 -4.60098887\n",
            "  -4.60116305]\n",
            " [-4.48313252 -4.27083405 -4.17064267 ... -4.60069383 -4.60098887\n",
            "  -4.60116305]\n",
            " ...\n",
            " [-4.48313252 -4.27083405 -4.17064267 ... -4.60069383 -4.60098887\n",
            "  -4.60116305]\n",
            " [-4.48313252 -4.27083405 -4.17064267 ... -4.60069383 -4.60098887\n",
            "  -4.60116305]\n",
            " [-4.48313252 -4.27083405 -4.17064267 ... -4.60069383 -4.60098887\n",
            "  -4.60116305]]\n"
          ]
        },
        {
          "output_type": "stream",
          "name": "stderr",
          "text": [
            "/usr/local/lib/python3.10/dist-packages/tensorflow/python/keras/engine/base_layer_v1.py:1694: UserWarning: `layer.apply` is deprecated and will be removed in a future version. Please use `layer.__call__` method instead.\n",
            "  warnings.warn('`layer.apply` is deprecated and '\n",
            "/usr/local/lib/python3.10/dist-packages/tensorflow/python/keras/legacy_tf_layers/core.py:332: UserWarning: `tf.layers.flatten` is deprecated and will be removed in a future version. Please use `tf.keras.layers.Flatten` instead.\n",
            "  warnings.warn('`tf.layers.flatten` is deprecated and '\n"
          ]
        },
        {
          "output_type": "stream",
          "name": "stdout",
          "text": [
            "VGGish embedding:  [-2.72986382e-01 -1.80314153e-01  5.19921184e-02 -1.43571526e-01\n",
            " -1.04673728e-01 -4.96598154e-01 -1.75267965e-01  4.23147976e-01\n",
            " -8.22126150e-01 -2.16801405e-01 -1.17509276e-01 -6.70077026e-01\n",
            "  1.43174574e-01 -1.44183934e-01  8.73491913e-03 -8.71972442e-02\n",
            " -1.84393525e-01  5.96655607e-01 -3.43809605e-01 -5.79104424e-02\n",
            " -1.65071294e-01  4.22911644e-02 -2.55293399e-01 -2.36356765e-01\n",
            "  1.80295616e-01  3.02612185e-01  1.08356833e-01 -4.48398024e-01\n",
            "  1.22757629e-01 -2.99955189e-01 -5.55934191e-01  5.05966544e-01\n",
            "  2.05210358e-01  8.87591839e-01  9.03702497e-01 -2.10566416e-01\n",
            " -3.27462405e-02  1.38691410e-01 -2.27416530e-01  1.14804000e-01\n",
            "  5.95410109e-01 -4.76971269e-01  2.28232622e-01  1.54627025e-01\n",
            "  1.64934218e-01  7.19252825e-01  1.24101830e+00  5.61996222e-01\n",
            "  2.73531973e-01  3.09788287e-02  2.10977703e-01 -6.09551668e-01\n",
            " -3.15282375e-01  1.76392645e-01 -8.96190405e-02 -4.26822364e-01\n",
            "  3.12993884e-01 -1.56592295e-01  3.31673503e-01  1.29436389e-01\n",
            "  1.66024208e-01  3.01903039e-02 -1.54465199e-01 -4.29332554e-01\n",
            " -2.68703818e-01 -1.58071086e-01  4.00485486e-01 -2.55945086e-01\n",
            " -2.66429391e-02  8.16181302e-03  2.98492879e-01  3.48756194e-01\n",
            " -1.07143626e-01  8.88779089e-02  1.26810491e-01 -3.34817201e-01\n",
            " -2.55428016e-01  5.07779241e-01  3.97584617e-01  1.78759634e-01\n",
            " -8.04521963e-02  4.84320521e-02 -2.01262981e-01 -2.97957748e-01\n",
            "  3.66831303e-01  4.56224501e-01  5.37960529e-01 -2.00488269e-02\n",
            " -6.24543577e-02  4.15623039e-01 -1.88741475e-01 -5.36903143e-01\n",
            " -1.78362012e-01  3.81366849e-01  3.96645039e-01  3.21936429e-01\n",
            " -4.26683240e-02 -1.41018063e-01 -4.53833699e-01 -1.07017279e-01\n",
            " -2.21892655e-01  3.51183444e-01 -2.58386552e-01  3.31110060e-01\n",
            " -7.28939176e-01 -2.55487382e-01  3.56361002e-01 -3.16188633e-01\n",
            "  3.12793672e-01  1.23501822e-01 -1.83649734e-02 -3.99395853e-01\n",
            " -5.13507247e-01 -2.74227202e-01 -2.68650651e-01  2.24091530e-01\n",
            "  1.09625012e-01  1.30929738e-01 -1.25994891e-01 -1.92615181e-01\n",
            "  1.83567405e-04  2.04150438e-01 -1.03096753e-01  2.93378532e-02\n",
            " -3.38305712e-01 -2.25749940e-01 -2.46723339e-01 -1.20763183e-01]\n",
            "embedding mean/stddev 0.00065699156 0.34301957\n",
            "Postprocessed VGGish embedding:  [160  53 124 132 154 120 119 105 155 173 129  69 149  93  59   0  52  97\n",
            " 157 144 153 194 251 108  48 174 131 190 195  79  59  60 169  93 167 247\n",
            "  28  75 255  56 134 169 234 137 232 100  19  80 162 255   0 255 101   0\n",
            " 222 252  79 211  64  88 248   0   0 255 246  62  81 255   0 159  22 168\n",
            "  70 255  99 135 204 192 255 150   0   0 255 255  67 235  55 255  69   0\n",
            "   0  17 241  44 255 224   0 255  40   0 255   0 211 252  62   0  28 218\n",
            " 112   0 255   0  81  67 153   0 255   0 129 229  53 255  55 101   0 255\n",
            "   0 255]\n",
            "postproc embedding mean/stddev 126.359375 89.33878063086252\n",
            "\n",
            "Looks Good To Me!\n",
            "\n"
          ]
        }
      ]
    },
    {
      "cell_type": "code",
      "source": [
        "# Mount Google Drive\n",
        "from google.colab import drive\n",
        "drive.mount('/content/drive')"
      ],
      "metadata": {
        "colab": {
          "base_uri": "https://localhost:8080/"
        },
        "id": "7Icmm7sqaoqp",
        "outputId": "4fb2fbe8-c975-4769-e215-868876d16b2e"
      },
      "execution_count": 8,
      "outputs": [
        {
          "output_type": "stream",
          "name": "stdout",
          "text": [
            "Mounted at /content/drive\n"
          ]
        }
      ]
    },
    {
      "cell_type": "code",
      "source": [
        "from __future__ import print_function\n",
        "\n",
        "import numpy as np\n",
        "import six\n",
        "import soundfile\n",
        "import tensorflow.compat.v1 as tf\n",
        "\n",
        "import vggish_input\n",
        "import vggish_params\n",
        "import vggish_postprocess\n",
        "import vggish_slim\n",
        "import soundfile as sf\n",
        "\n",
        "import os"
      ],
      "metadata": {
        "id": "zuBJBxIGCuW2"
      },
      "execution_count": 9,
      "outputs": []
    },
    {
      "cell_type": "code",
      "source": [
        "# get wav file from directory\n",
        "def get_filenames(directory_path):\n",
        "  filenames = []\n",
        "  for filename in os.listdir(directory_path):\n",
        "      if filename.endswith(\".wav\"):\n",
        "          file_path = os.path.join(directory_path, filename)\n",
        "          filenames.append(file_path)\n",
        "  return filenames"
      ],
      "metadata": {
        "id": "1ZDqusuM_GCW"
      },
      "execution_count": 10,
      "outputs": []
    },
    {
      "cell_type": "code",
      "source": [
        "# get filename list\n",
        "directory_path = '/content/drive/MyDrive/db/audios_30'\n",
        "filenames = get_filenames(directory_path)\n",
        "print(filenames)"
      ],
      "metadata": {
        "colab": {
          "base_uri": "https://localhost:8080/"
        },
        "id": "G4Po5wyibpx9",
        "outputId": "d8dca5c2-4d4d-4a59-853a-e8d4caa4318c"
      },
      "execution_count": 11,
      "outputs": [
        {
          "output_type": "stream",
          "name": "stdout",
          "text": [
            "['/content/drive/MyDrive/db/audios_30/27-whitenoise1.wav', '/content/drive/MyDrive/db/audios_30/24-violin1.wav', '/content/drive/MyDrive/db/audios_30/13-fire2.wav', '/content/drive/MyDrive/db/audios_30/9-clap2.wav', '/content/drive/MyDrive/db/audios_30/10-dog.wav', '/content/drive/MyDrive/db/audios_30/18-music3.wav', '/content/drive/MyDrive/db/audios_30/15-helicopter1.wav', '/content/drive/MyDrive/db/audios_30/21-noise2.wav', '/content/drive/MyDrive/db/audios_30/29-wind1.wav', '/content/drive/MyDrive/db/audios_30/7-cat2.wav', '/content/drive/MyDrive/db/audios_30/6-cat.wav', '/content/drive/MyDrive/db/audios_30/12-fire1.wav', '/content/drive/MyDrive/db/audios_30/16-motoboat.wav', '/content/drive/MyDrive/db/audios_30/17-music1.wav', '/content/drive/MyDrive/db/audios_30/11-echo1.wav', '/content/drive/MyDrive/db/audios_30/5-bird.wav', '/content/drive/MyDrive/db/audios_30/22-skateboard.wav', '/content/drive/MyDrive/db/audios_30/30-wind2.wav', '/content/drive/MyDrive/db/audios_30/25-water1.wav', '/content/drive/MyDrive/db/audios_30/14-guitar.wav', '/content/drive/MyDrive/db/audios_30/3-aircraft3.wav', '/content/drive/MyDrive/db/audios_30/28-wild animal.wav', '/content/drive/MyDrive/db/audios_30/8-clap.wav', '/content/drive/MyDrive/db/audios_30/1-aircraft1.wav', '/content/drive/MyDrive/db/audios_30/19-music4.wav', '/content/drive/MyDrive/db/audios_30/26-whistle.wav', '/content/drive/MyDrive/db/audios_30/4-bell1.wav', '/content/drive/MyDrive/db/audios_30/23-skateboard2.wav', '/content/drive/MyDrive/db/audios_30/20-noise1.wav', '/content/drive/MyDrive/db/audios_30/2-aircraft2.wav']\n"
          ]
        }
      ]
    },
    {
      "cell_type": "code",
      "source": [
        "# restore PCA parameters\n",
        "pproc = vggish_postprocess.Postprocessor('vggish_pca_params.npz')"
      ],
      "metadata": {
        "id": "_5MFcAr9Dcvg"
      },
      "execution_count": 12,
      "outputs": []
    },
    {
      "cell_type": "code",
      "source": [
        "# function to genenrate VGGish embeddings from a wav file\n",
        "def VGGish_embeddings(wav_file):\n",
        "  example_batch = vggish_input.wavfile_to_examples(wav_file)\n",
        "  with tf.Graph().as_default(), tf.Session() as sess:\n",
        "    vggish_slim.define_vggish_slim(training=False)\n",
        "    vggish_slim.load_vggish_slim_checkpoint(sess, 'vggish_model.ckpt')\n",
        "    features_tensor = sess.graph.get_tensor_by_name(vggish_params.INPUT_TENSOR_NAME)\n",
        "    embedding_tensor = sess.graph.get_tensor_by_name(vggish_params.OUTPUT_TENSOR_NAME)\n",
        "    # Run inference and postprocessing.\n",
        "    [embedding] = sess.run([embedding_tensor],feed_dict={features_tensor: example_batch})\n",
        "    postprocessed = pproc.postprocess(embedding)\n",
        "    print(f'{wav_file} embedding shape: {postprocessed.shape}')\n",
        "  return postprocessed"
      ],
      "metadata": {
        "id": "zvarCowJDqxd"
      },
      "execution_count": 13,
      "outputs": []
    },
    {
      "cell_type": "code",
      "source": [
        "# function to generate, process and normalize embeddings\n",
        "def generate_embeddings(filenames):\n",
        "  results = {}\n",
        "  for filename in filenames:\n",
        "    model_embeddings = VGGish_embeddings(filename)\n",
        "    flat_embeddings = model_embeddings.flatten()\n",
        "    normalized_embeddings = flat_embeddings / 255\n",
        "    basename = os.path.basename(filename)\n",
        "    results[basename] = normalized_embeddings\n",
        "  return results"
      ],
      "metadata": {
        "id": "iBj_OqB4POVI"
      },
      "execution_count": 14,
      "outputs": []
    },
    {
      "cell_type": "code",
      "source": [
        "# test embeddings of audio_30\n",
        "embeddings_dic = generate_embeddings(filenames)\n",
        "print(embeddings_dic[os.path.basename(filenames[0])])"
      ],
      "metadata": {
        "colab": {
          "base_uri": "https://localhost:8080/"
        },
        "id": "Ah13NJhLfiN7",
        "outputId": "8b6609ee-0482-45c9-b6c7-82001882677f"
      },
      "execution_count": 15,
      "outputs": [
        {
          "output_type": "stream",
          "name": "stdout",
          "text": [
            "/content/drive/MyDrive/db/audios_30/27-whitenoise1.wav embedding shape: (10, 128)\n",
            "/content/drive/MyDrive/db/audios_30/24-violin1.wav embedding shape: (10, 128)\n",
            "/content/drive/MyDrive/db/audios_30/13-fire2.wav embedding shape: (10, 128)\n",
            "/content/drive/MyDrive/db/audios_30/9-clap2.wav embedding shape: (10, 128)\n",
            "/content/drive/MyDrive/db/audios_30/10-dog.wav embedding shape: (10, 128)\n",
            "/content/drive/MyDrive/db/audios_30/18-music3.wav embedding shape: (10, 128)\n",
            "/content/drive/MyDrive/db/audios_30/15-helicopter1.wav embedding shape: (10, 128)\n",
            "/content/drive/MyDrive/db/audios_30/21-noise2.wav embedding shape: (10, 128)\n",
            "/content/drive/MyDrive/db/audios_30/29-wind1.wav embedding shape: (10, 128)\n",
            "/content/drive/MyDrive/db/audios_30/7-cat2.wav embedding shape: (10, 128)\n",
            "/content/drive/MyDrive/db/audios_30/6-cat.wav embedding shape: (10, 128)\n",
            "/content/drive/MyDrive/db/audios_30/12-fire1.wav embedding shape: (10, 128)\n",
            "/content/drive/MyDrive/db/audios_30/16-motoboat.wav embedding shape: (10, 128)\n",
            "/content/drive/MyDrive/db/audios_30/17-music1.wav embedding shape: (10, 128)\n",
            "/content/drive/MyDrive/db/audios_30/11-echo1.wav embedding shape: (10, 128)\n",
            "/content/drive/MyDrive/db/audios_30/5-bird.wav embedding shape: (10, 128)\n",
            "/content/drive/MyDrive/db/audios_30/22-skateboard.wav embedding shape: (10, 128)\n",
            "/content/drive/MyDrive/db/audios_30/30-wind2.wav embedding shape: (10, 128)\n",
            "/content/drive/MyDrive/db/audios_30/25-water1.wav embedding shape: (10, 128)\n",
            "/content/drive/MyDrive/db/audios_30/14-guitar.wav embedding shape: (10, 128)\n",
            "/content/drive/MyDrive/db/audios_30/3-aircraft3.wav embedding shape: (10, 128)\n",
            "/content/drive/MyDrive/db/audios_30/28-wild animal.wav embedding shape: (10, 128)\n",
            "/content/drive/MyDrive/db/audios_30/8-clap.wav embedding shape: (10, 128)\n",
            "/content/drive/MyDrive/db/audios_30/1-aircraft1.wav embedding shape: (10, 128)\n",
            "/content/drive/MyDrive/db/audios_30/19-music4.wav embedding shape: (10, 128)\n",
            "/content/drive/MyDrive/db/audios_30/26-whistle.wav embedding shape: (10, 128)\n",
            "/content/drive/MyDrive/db/audios_30/4-bell1.wav embedding shape: (10, 128)\n",
            "/content/drive/MyDrive/db/audios_30/23-skateboard2.wav embedding shape: (10, 128)\n",
            "/content/drive/MyDrive/db/audios_30/20-noise1.wav embedding shape: (10, 128)\n",
            "/content/drive/MyDrive/db/audios_30/2-aircraft2.wav embedding shape: (10, 128)\n",
            "[0.51372549 0.49411765 0.54901961 ... 0.         0.         1.        ]\n"
          ]
        }
      ]
    },
    {
      "cell_type": "code",
      "source": [
        "sound_labels = {\n",
        "\"18-music3.wav\": \"music\",\n",
        "\"13-fire2.wav\": \"fire\",\n",
        "\"15-helicopter1.wav\": \"vehicle\",\n",
        "\"16-motoboat.wav\": \"vehicle\",\n",
        "\"1-aircraft1.wav\": \"vehicle\",\n",
        "\"20-noise1.wav\": \"noise\",\n",
        "\"3-aircraft3.wav\": \"vehicle\",\n",
        "\"19-music4.wav\": \"music\",\n",
        "\"21-noise2.wav\": \"noise\",\n",
        "\"30-wind2.wav\": \"wind\",\n",
        "\"17-music1.wav\": \"music\",\n",
        "\"12-fire1.wav\": \"fire\",\n",
        "\"14-guitar.wav\": \"musical instrument\",\n",
        "\"4-bell1.wav\": \"musical instrument\",\n",
        "\"2-aircraft2.wav\": \"vehicle\",\n",
        "\"11-echo1.wav\": \"accoustic environment\",\n",
        "\"24-violin1.wav\": \"musical instrument\",\n",
        "\"27-whitenoise1.wav\": \"noise\",\n",
        "\"25-water1.wav\": \"water\",\n",
        "\"29-wind1.wav\": \"wind\",\n",
        "\"28-wild animal.wav\": \"wild animal\",\n",
        "\"26-whistle.wav\": \"whistling\",\n",
        "\"23-skateboard2.wav\": \"skateboard\",\n",
        "\"22-skateboard.wav\": \"skateboard\",\n",
        "\"10-dog.wav\": \"domestic animal\",\n",
        "\"9-clap2.wav\": \"hands\",\n",
        "\"8-clap.wav\": \"hands\",\n",
        "\"7-cat2.wav\": \"domestic animal\",\n",
        "\"6-cat.wav\": \"domestic animal\",\n",
        "\"5-bird.wav\": \"wild animal\",\n",
        "}"
      ],
      "metadata": {
        "id": "gdXJa8hTrOlC"
      },
      "execution_count": 16,
      "outputs": []
    },
    {
      "cell_type": "code",
      "source": [
        "# visulaize embeddings in reduced dimension\n",
        "from collections import defaultdict\n",
        "from sklearn.decomposition import PCA\n",
        "\n",
        "# Extract embeddings into a NumPy array\n",
        "embeddings = np.array(list(embeddings_dic.values()))\n",
        "\n",
        "# Perform PCA to reduce to 2 dimensions\n",
        "pca = PCA(n_components=2)\n",
        "embeddings_reduced = pca.fit_transform(embeddings)\n",
        "\n",
        "class_embeddings = defaultdict(list)\n",
        "\n",
        "for embedding_reduced, key in zip(embeddings_reduced, embeddings_dic.keys()):\n",
        "  label = sound_labels[key]\n",
        "  class_embeddings[label].append(embedding_reduced)"
      ],
      "metadata": {
        "id": "kv4iPeJmktlc"
      },
      "execution_count": 24,
      "outputs": []
    },
    {
      "cell_type": "code",
      "source": [
        "import matplotlib.pyplot as plt\n",
        "\n",
        "# Plotting\n",
        "plt.figure(figsize=(9, 6))\n",
        "\n",
        "# For each class, plot its filenames in the assigned color\n",
        "for label, class_embedding in class_embeddings.items():\n",
        "  # Convert to a single ndarray\n",
        "  combined_array = np.stack(class_embedding)\n",
        "  plt.scatter(combined_array[:, 0], combined_array[:, 1], label=label)\n",
        "\n",
        "plt.xlabel('PCA Component 1')\n",
        "plt.ylabel('PCA Component 2')\n",
        "plt.title('2D Visualization of Embeddings')\n",
        "plt.legend(loc='upper left', bbox_to_anchor=(1, 1))\n",
        "plt.show()"
      ],
      "metadata": {
        "colab": {
          "base_uri": "https://localhost:8080/",
          "height": 564
        },
        "id": "fP2o2TGczUXM",
        "outputId": "09a58c5e-eec8-4bb7-f1d5-83716fdfec18"
      },
      "execution_count": 33,
      "outputs": [
        {
          "output_type": "display_data",
          "data": {
            "text/plain": [
              "<Figure size 900x600 with 1 Axes>"
            ],
            "image/png": "[encoded data removed]"
          },
          "metadata": {}
        }
      ]
    },
    {
      "cell_type": "code",
      "source": [
        "# export audio embeddings\n",
        "import json\n",
        "\n",
        "for k,v in embeddings_dic.items():\n",
        "  embeddings_dic[k] = v.tolist()\n",
        "\n",
        "json_file_path = 'embeddings.json'\n",
        "\n",
        "with open(json_file_path, 'w') as json_file:\n",
        "  json.dump(embeddings_dic, json_file)\n",
        "\n",
        "print(f\"Data has been exported to {json_file_path}.\")"
      ],
      "metadata": {
        "colab": {
          "base_uri": "https://localhost:8080/"
        },
        "id": "ocU_WXZKiX45",
        "outputId": "96b45587-7c93-4e54-f4dc-d124875e483f"
      },
      "execution_count": null,
      "outputs": [
        {
          "output_type": "stream",
          "name": "stdout",
          "text": [
            "Data has been exported to embeddings.json.\n"
          ]
        }
      ]
    }
  ]
}