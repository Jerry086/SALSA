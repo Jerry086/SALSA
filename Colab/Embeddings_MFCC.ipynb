{
  "nbformat": 4,
  "nbformat_minor": 0,
  "metadata": {
    "colab": {
      "provenance": []
    },
    "kernelspec": {
      "name": "python3",
      "display_name": "Python 3"
    },
    "language_info": {
      "name": "python"
    }
  },
  "cells": [
    {
      "cell_type": "markdown",
      "source": [
        "Install librosa"
      ],
      "metadata": {
        "id": "aipMdN7IiS9T"
      }
    },
    {
      "cell_type": "code",
      "execution_count": 1,
      "metadata": {
        "colab": {
          "base_uri": "https://localhost:8080/"
        },
        "id": "xyam_CNGhyQ7",
        "outputId": "4bdce7f9-d077-470f-d2cc-bb6b9a22ecc7"
      },
      "outputs": [
        {
          "output_type": "stream",
          "name": "stdout",
          "text": [
            "Requirement already satisfied: librosa in /usr/local/lib/python3.10/dist-packages (0.10.1)\n",
            "Requirement already satisfied: audioread>=2.1.9 in /usr/local/lib/python3.10/dist-packages (from librosa) (3.0.1)\n",
            "Requirement already satisfied: numpy!=1.22.0,!=1.22.1,!=1.22.2,>=1.20.3 in /usr/local/lib/python3.10/dist-packages (from librosa) (1.23.5)\n",
            "Requirement already satisfied: scipy>=1.2.0 in /usr/local/lib/python3.10/dist-packages (from librosa) (1.11.4)\n",
            "Requirement already satisfied: scikit-learn>=0.20.0 in /usr/local/lib/python3.10/dist-packages (from librosa) (1.2.2)\n",
            "Requirement already satisfied: joblib>=0.14 in /usr/local/lib/python3.10/dist-packages (from librosa) (1.3.2)\n",
            "Requirement already satisfied: decorator>=4.3.0 in /usr/local/lib/python3.10/dist-packages (from librosa) (4.4.2)\n",
            "Requirement already satisfied: numba>=0.51.0 in /usr/local/lib/python3.10/dist-packages (from librosa) (0.58.1)\n",
            "Requirement already satisfied: soundfile>=0.12.1 in /usr/local/lib/python3.10/dist-packages (from librosa) (0.12.1)\n",
            "Requirement already satisfied: pooch>=1.0 in /usr/local/lib/python3.10/dist-packages (from librosa) (1.8.0)\n",
            "Requirement already satisfied: soxr>=0.3.2 in /usr/local/lib/python3.10/dist-packages (from librosa) (0.3.7)\n",
            "Requirement already satisfied: typing-extensions>=4.1.1 in /usr/local/lib/python3.10/dist-packages (from librosa) (4.9.0)\n",
            "Requirement already satisfied: lazy-loader>=0.1 in /usr/local/lib/python3.10/dist-packages (from librosa) (0.3)\n",
            "Requirement already satisfied: msgpack>=1.0 in /usr/local/lib/python3.10/dist-packages (from librosa) (1.0.7)\n",
            "Requirement already satisfied: llvmlite<0.42,>=0.41.0dev0 in /usr/local/lib/python3.10/dist-packages (from numba>=0.51.0->librosa) (0.41.1)\n",
            "Requirement already satisfied: platformdirs>=2.5.0 in /usr/local/lib/python3.10/dist-packages (from pooch>=1.0->librosa) (4.2.0)\n",
            "Requirement already satisfied: packaging>=20.0 in /usr/local/lib/python3.10/dist-packages (from pooch>=1.0->librosa) (23.2)\n",
            "Requirement already satisfied: requests>=2.19.0 in /usr/local/lib/python3.10/dist-packages (from pooch>=1.0->librosa) (2.31.0)\n",
            "Requirement already satisfied: threadpoolctl>=2.0.0 in /usr/local/lib/python3.10/dist-packages (from scikit-learn>=0.20.0->librosa) (3.2.0)\n",
            "Requirement already satisfied: cffi>=1.0 in /usr/local/lib/python3.10/dist-packages (from soundfile>=0.12.1->librosa) (1.16.0)\n",
            "Requirement already satisfied: pycparser in /usr/local/lib/python3.10/dist-packages (from cffi>=1.0->soundfile>=0.12.1->librosa) (2.21)\n",
            "Requirement already satisfied: charset-normalizer<4,>=2 in /usr/local/lib/python3.10/dist-packages (from requests>=2.19.0->pooch>=1.0->librosa) (3.3.2)\n",
            "Requirement already satisfied: idna<4,>=2.5 in /usr/local/lib/python3.10/dist-packages (from requests>=2.19.0->pooch>=1.0->librosa) (3.6)\n",
            "Requirement already satisfied: urllib3<3,>=1.21.1 in /usr/local/lib/python3.10/dist-packages (from requests>=2.19.0->pooch>=1.0->librosa) (2.0.7)\n",
            "Requirement already satisfied: certifi>=2017.4.17 in /usr/local/lib/python3.10/dist-packages (from requests>=2.19.0->pooch>=1.0->librosa) (2024.2.2)\n"
          ]
        }
      ],
      "source": [
        "!pip install librosa"
      ]
    },
    {
      "cell_type": "markdown",
      "source": [
        "import dependencies"
      ],
      "metadata": {
        "id": "HEmFRqt2iY_f"
      }
    },
    {
      "cell_type": "code",
      "source": [
        "import librosa\n",
        "import librosa.display\n",
        "import matplotlib.pyplot as plt\n",
        "import numpy as np\n",
        "import os"
      ],
      "metadata": {
        "id": "UHYi50wFiabE"
      },
      "execution_count": 17,
      "outputs": []
    },
    {
      "cell_type": "markdown",
      "source": [
        "Mount Google Drive"
      ],
      "metadata": {
        "id": "EOvQWII8isIO"
      }
    },
    {
      "cell_type": "code",
      "source": [
        "from google.colab import drive\n",
        "drive.mount('/content/drive')"
      ],
      "metadata": {
        "colab": {
          "base_uri": "https://localhost:8080/"
        },
        "id": "_9f2DRo4irrj",
        "outputId": "7d3fff75-a5fb-402e-d318-c0d8ca099d33"
      },
      "execution_count": 3,
      "outputs": [
        {
          "output_type": "stream",
          "name": "stdout",
          "text": [
            "Mounted at /content/drive\n"
          ]
        }
      ]
    },
    {
      "cell_type": "markdown",
      "source": [
        "load audio file and extract MFCC features"
      ],
      "metadata": {
        "id": "eC3SnQtHifN1"
      }
    },
    {
      "cell_type": "code",
      "source": [
        "def extract_mfcc(audio_path, n_mfcc=20):\n",
        "    # Load audio file\n",
        "    y, sr = librosa.load(audio_path, sr=None)\n",
        "\n",
        "    # Extract MFCCs\n",
        "    mfccs = librosa.feature.mfcc(y=y, sr=sr, n_mfcc=n_mfcc)\n",
        "\n",
        "    return mfccs"
      ],
      "metadata": {
        "id": "ooxpwWOVmq_j"
      },
      "execution_count": 18,
      "outputs": []
    },
    {
      "cell_type": "code",
      "source": [
        "def extract_mfccs_from_directory(directory_path, n_mfcc=20):\n",
        "    mfccs_list = []\n",
        "    filenames = []\n",
        "\n",
        "    # Iterate over all files in the directory\n",
        "    for filename in os.listdir(directory_path):\n",
        "        if filename.endswith(\".wav\"):\n",
        "            file_path = os.path.join(directory_path, filename)\n",
        "\n",
        "            # Extract MFCCs from the current file\n",
        "            mfccs = extract_mfcc(file_path, n_mfcc=n_mfcc)\n",
        "\n",
        "            # Append MFCCs and filename to the lists\n",
        "            mfccs_list.append(mfccs)\n",
        "            filenames.append(filename)\n",
        "\n",
        "    return mfccs_list, filenames\n"
      ],
      "metadata": {
        "id": "w2x5VHo4ud_Y"
      },
      "execution_count": 32,
      "outputs": []
    },
    {
      "cell_type": "code",
      "source": [
        "# Replace 'directory_path' with the path to the directory containing the WAV files\n",
        "directory_path = '/content/drive/MyDrive/db/audios_30'\n",
        "mfccs_list, filenames = extract_mfccs_from_directory(directory_path, n_mfcc=20)"
      ],
      "metadata": {
        "id": "S7HLuxgPuuJg"
      },
      "execution_count": 33,
      "outputs": []
    },
    {
      "cell_type": "markdown",
      "source": [
        "<font color='red'>Issue 1: MFCC dimension is not uniform</font>"
      ],
      "metadata": {
        "id": "_vr07YDH2Cix"
      }
    },
    {
      "cell_type": "code",
      "source": [
        "for mfcc, filename in zip(mfccs_list, filenames):\n",
        "  print(mfcc.shape, filename)"
      ],
      "metadata": {
        "colab": {
          "base_uri": "https://localhost:8080/"
        },
        "id": "W0zTn0L0wf2S",
        "outputId": "b4017331-c59f-447d-b8ec-47651238b052"
      },
      "execution_count": 39,
      "outputs": [
        {
          "output_type": "stream",
          "name": "stdout",
          "text": [
            "(20, 938) 18-music3.wav\n",
            "(20, 865) 23-skateboard2.wav\n",
            "(20, 865) 5-bird.wav\n",
            "(20, 865) 28-wild animal.wav\n",
            "(20, 865) 10-dog.wav\n",
            "(20, 938) 12-fire1.wav\n",
            "(20, 938) 24-violin1.wav\n",
            "(20, 951) 4-bell1.wav\n",
            "(20, 865) 6-cat.wav\n",
            "(20, 977) 20-noise1.wav\n",
            "(20, 865) 9-clap2.wav\n",
            "(20, 977) 3-aircraft3.wav\n",
            "(20, 938) 19-music4.wav\n",
            "(20, 939) 16-motoboat.wav\n",
            "(20, 981) 11-echo1.wav\n",
            "(20, 947) 21-noise2.wav\n",
            "(20, 945) 1-aircraft1.wav\n",
            "(20, 943) 15-helicopter1.wav\n",
            "(20, 938) 13-fire2.wav\n",
            "(20, 945) 2-aircraft2.wav\n",
            "(20, 938) 29-wind1.wav\n",
            "(20, 938) 30-wind2.wav\n",
            "(20, 945) 27-whitenoise1.wav\n",
            "(20, 865) 26-whistle.wav\n",
            "(20, 865) 22-skateboard.wav\n",
            "(20, 938) 17-music1.wav\n",
            "(20, 938) 14-guitar.wav\n",
            "(20, 865) 7-cat2.wav\n",
            "(20, 865) 8-clap.wav\n",
            "(20, 938) 25-water1.wav\n"
          ]
        }
      ]
    },
    {
      "cell_type": "markdown",
      "source": [
        "Apply padding to MFCC matrices"
      ],
      "metadata": {
        "id": "-_U5_dbX4jsl"
      }
    },
    {
      "cell_type": "code",
      "source": [
        "# Calculate the maximum number of time frames (T) among all MFCCs\n",
        "max_T = max(mfcc.shape[1] for mfcc in mfccs_list)\n",
        "\n",
        "# Pad or truncate each MFCC matrix to have the same number of time frames\n",
        "mfccs_padded = [np.pad(mfcc, ((0, 0), (0, max_T - mfcc.shape[1])), mode='constant') for mfcc in mfccs_list]\n",
        "\n",
        "# Flat mfccs_padded to two dimensional array\n",
        "mfccs_flattened = [mfcc.flatten() for mfcc in mfccs_padded]"
      ],
      "metadata": {
        "id": "4a5mw_3q4qw2"
      },
      "execution_count": 59,
      "outputs": []
    },
    {
      "cell_type": "code",
      "source": [
        "from sklearn.neighbors import KDTree\n",
        "\n",
        "# Build KDTree\n",
        "kdtree = KDTree(mfccs_flattened, leaf_size=10)"
      ],
      "metadata": {
        "id": "fXTWXv2vwqYz"
      },
      "execution_count": 61,
      "outputs": []
    },
    {
      "cell_type": "markdown",
      "source": [
        "<font color='red'>Issue 2: Dimension of query file must be uniform, cannot be guaranteed</font>"
      ],
      "metadata": {
        "id": "Avg-ZiMrBsBO"
      }
    },
    {
      "cell_type": "code",
      "source": [
        "from ast import Index\n",
        "mfcc_query = [mfccs_flattened[0]]\n",
        "\n",
        "# Perform the query\n",
        "k = 5  # Number of nearest neighbors to retrieve\n",
        "distances, indices = kdtree.query(mfcc_query, k=k)\n",
        "res = [filenames[i] for i in indices[0]]\n",
        "\n",
        "\n",
        "# Print the indices and distances of the nearest neighbors\n",
        "print(\"Indices of nearest neighbors:\", indices)\n",
        "print(\"Distances to nearest neighbors:\", distances)\n",
        "print(f\"Top {k} most similar sounds (descending):\", res)"
      ],
      "metadata": {
        "colab": {
          "base_uri": "https://localhost:8080/"
        },
        "id": "fo78_si-3yiW",
        "outputId": "f6db8bd3-061d-484e-e10d-66894c2f8485"
      },
      "execution_count": 76,
      "outputs": [
        {
          "output_type": "stream",
          "name": "stdout",
          "text": [
            "Indices of nearest neighbors: [[ 0 18  5 13  8]]\n",
            "Distances to nearest neighbors: [[   0.         4320.93534709 4445.20065099 4950.77089993 5309.89491331]]\n",
            "Top 5 most similar sounds (descending): ['18-music3.wav', '13-fire2.wav', '12-fire1.wav', '16-motoboat.wav', '6-cat.wav']\n"
          ]
        }
      ]
    }
  ]
}