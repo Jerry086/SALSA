{
  "nbformat": 4,
  "nbformat_minor": 0,
  "metadata": {
    "colab": {
      "provenance": []
    },
    "kernelspec": {
      "name": "python3",
      "display_name": "Python 3"
    },
    "language_info": {
      "name": "python"
    }
  },
  "cells": [
    {
      "cell_type": "code",
      "source": [
        "# Mount Google Drive\n",
        "from google.colab import drive\n",
        "drive.mount('/content/drive')"
      ],
      "metadata": {
        "colab": {
          "base_uri": "https://localhost:8080/"
        },
        "id": "2Pu63E6PbjiY",
        "outputId": "b82c48db-b227-4754-ee35-407d5fa76f1a"
      },
      "execution_count": 30,
      "outputs": [
        {
          "output_type": "stream",
          "name": "stdout",
          "text": [
            "Drive already mounted at /content/drive; to attempt to forcibly remount, call drive.mount(\"/content/drive\", force_remount=True).\n"
          ]
        }
      ]
    },
    {
      "cell_type": "code",
      "source": [
        "import json\n",
        "\n",
        "embeddings = \"/content/drive/MyDrive/NEU/embeddings.json\"\n",
        "\n",
        "# Open the JSON file and load its content into a dictionary\n",
        "with open(embeddings, 'r') as file:\n",
        "    embeddings_dict = json.load(file)"
      ],
      "metadata": {
        "id": "gpXkUZuxdnBn"
      },
      "execution_count": null,
      "outputs": []
    },
    {
      "cell_type": "code",
      "source": [
        "import numpy as np"
      ],
      "metadata": {
        "id": "NP2yvuzJ0Yak"
      },
      "execution_count": 163,
      "outputs": []
    },
    {
      "cell_type": "code",
      "source": [
        "sound_labels = {\n",
        "\"18-music3.wav\": \"music\",\n",
        "\"13-fire2.wav\": \"fire\",\n",
        "\"15-helicopter1.wav\": \"vehicle\",\n",
        "\"16-motoboat.wav\": \"vehicle\",\n",
        "\"1-aircraft1.wav\": \"vehicle\",\n",
        "\"20-noise1.wav\": \"noise\",\n",
        "\"3-aircraft3.wav\": \"vehicle\",\n",
        "\"19-music4.wav\": \"music\",\n",
        "\"21-noise2.wav\": \"noise\",\n",
        "\"30-wind2.wav\": \"wind\",\n",
        "\"17-music1.wav\": \"music\",\n",
        "\"12-fire1.wav\": \"fire\",\n",
        "\"14-guitar.wav\": \"musical instrument\",\n",
        "\"4-bell1.wav\": \"musical instrument\",\n",
        "\"2-aircraft2.wav\": \"vehicle\",\n",
        "\"11-echo1.wav\": \"accoustic environment\",\n",
        "\"24-violin1.wav\": \"musical instrument\",\n",
        "\"27-whitenoise1.wav\": \"noise\",\n",
        "\"25-water1.wav\": \"water\",\n",
        "\"29-wind1.wav\": \"wind\",\n",
        "\"28-wild animal.wav\": \"wild animal\",\n",
        "\"26-whistle.wav\": \"whistling\",\n",
        "\"23-skateboard2.wav\": \"skateboard\",\n",
        "\"22-skateboard.wav\": \"skateboard\",\n",
        "\"10-dog.wav\": \"domestic animal\",\n",
        "\"9-clap2.wav\": \"hands\",\n",
        "\"8-clap.wav\": \"hands\",\n",
        "\"7-cat2.wav\": \"domestic animal\",\n",
        "\"6-cat.wav\": \"domestic animal\",\n",
        "\"5-bird.wav\": \"wild animal\",\n",
        "}"
      ],
      "metadata": {
        "id": "w10XuMG7GfAD"
      },
      "execution_count": 32,
      "outputs": []
    },
    {
      "cell_type": "code",
      "source": [
        "from scipy.spatial import distance\n",
        "\n",
        "def euclidean_dist(vec1, vec2):\n",
        "    return distance.euclidean(vec1, vec2)\n",
        "\n",
        "def cosine_dist(vec1, vec2):\n",
        "    return distance.cosine(vec1, vec2)\n"
      ],
      "metadata": {
        "id": "NtgsMNTS0W2W"
      },
      "execution_count": 164,
      "outputs": []
    },
    {
      "cell_type": "code",
      "source": [
        "top_k = 2"
      ],
      "metadata": {
        "id": "fwLTrlBD2MAu"
      },
      "execution_count": null,
      "outputs": []
    },
    {
      "cell_type": "code",
      "source": [
        "# calculate the euclidean distance between the target audio and the entire collection\n",
        "def euclidean_distance_to_all(target_id, audio_collection):\n",
        "    distances = []\n",
        "    target_data = audio_collection[target_id]\n",
        "\n",
        "    for compare_id, compare_data in audio_collection.items():\n",
        "        if target_id != compare_id:\n",
        "            dist = euclidean_dist(target_data, compare_data)\n",
        "            distances.append((compare_id, dist))\n",
        "\n",
        "    distances.sort(key=lambda x: x[1])\n",
        "    return distances"
      ],
      "metadata": {
        "id": "LtfwjO5KKGMn"
      },
      "execution_count": 113,
      "outputs": []
    },
    {
      "cell_type": "code",
      "execution_count": 89,
      "metadata": {
        "id": "jq34X-iNbLhm"
      },
      "outputs": [],
      "source": [
        "def euclidean_similar(embeddings_dict, top_k):\n",
        "  top_k_results = {}\n",
        "\n",
        "  for target_id, target_data in embeddings_dict.items():\n",
        "      distances = []\n",
        "      for compare_name, compare_data in embeddings_dict.items():\n",
        "          if target_id != compare_name:\n",
        "              dist = euclidean_dist(target_data, compare_data)\n",
        "              distances.append((compare_name, dist))\n",
        "\n",
        "\n",
        "      distances.sort(key=lambda x: x[1])\n",
        "      top_k_ids = [id for id, dist in distances[:top_k]]\n",
        "      top_k_results[target_id] = top_k_ids\n",
        "\n",
        "\n",
        "  for target_id, similar_ids in top_k_results.items():\n",
        "      print(f\"Euclieand - Top {top_k} similar sounds for Audio {target_id}: {similar_ids}\")\n",
        "\n",
        "# euclidean_similar(embeddings_dict, top_k)"
      ]
    },
    {
      "cell_type": "code",
      "source": [
        "def cosine_similar(embeddings_dict, top_k):\n",
        "  top_k_results = {}\n",
        "\n",
        "  for target_id, target_data in embeddings_dict.items():\n",
        "      distances = []\n",
        "      for compare_name, compare_data in embeddings_dict.items():\n",
        "          if target_id != compare_name:\n",
        "              dist = cosine_dist(target_data, compare_data)\n",
        "              distances.append((compare_name, dist))\n",
        "\n",
        "\n",
        "      distances.sort(key=lambda x: x[1])\n",
        "      top_k_ids = [id for id, dist in distances[:top_k]]\n",
        "      top_k_results[target_id] = top_k_ids\n",
        "\n",
        "\n",
        "  for target_id, similar_ids in top_k_results.items():\n",
        "      print(f\"Cosine - Top {top_k} similar sounds for Audio {target_id}: {similar_ids}\")\n",
        "\n",
        "# cosine_similar(embeddings_dict, top_k)"
      ],
      "metadata": {
        "id": "VgUlO4Gr3Law"
      },
      "execution_count": 58,
      "outputs": []
    },
    {
      "cell_type": "code",
      "source": [
        "audio_names = list(sound_labels.keys())\n",
        "audio_labels = [sound_labels[name] for name in audio_names]\n",
        "\n",
        "def is_similar(label1, label2):\n",
        "    return label1 == label2"
      ],
      "metadata": {
        "id": "8b75oqiaOscq"
      },
      "execution_count": 61,
      "outputs": []
    },
    {
      "cell_type": "code",
      "source": [
        "def evaluate_similarity(distances, target_label, sound_labels, N):\n",
        "    precision_at_N = []\n",
        "    true_positives = 0\n",
        "    # total_retrieved = 0\n",
        "    similar_sounds = []\n",
        "\n",
        "    # Sort the distances array by the distance values\n",
        "    sorted_distances = sorted(distances, key=lambda x: x[1])\n",
        "    sorted_audio_names = [name for name, dist in sorted_distances]\n",
        "\n",
        "    for i, audio_name in enumerate(sorted_audio_names, 1):  # Start enumeration at 1\n",
        "        if sound_labels[audio_name] == target_label:\n",
        "            if true_positives < N:\n",
        "                true_positives += 1\n",
        "                similar_sounds.append((audio_name, sound_labels[audio_name]))\n",
        "\n",
        "    precision_at_N = true_positives / N if N > 0 else 0\n",
        "    # print(true_positives, N, precision_at_N)\n",
        "\n",
        "    # For overall precision and recall, consider all retrieved audios\n",
        "    total_retrieved = len(sorted_audio_names) - 1  # Exclude the target audio from total retrieved count\n",
        "    total_similar = sum(1 for label in sound_labels.values() if label == target_label) - 1  # Exclude the target audio\n",
        "    # precision = true_positives / total_retrieved if total_retrieved > 0 else 0\n",
        "    recall = true_positives / total_similar if total_similar > 0 else 0\n",
        "\n",
        "    return recall, precision_at_N, similar_sounds\n"
      ],
      "metadata": {
        "id": "wVKpqoXGSHep"
      },
      "execution_count": 179,
      "outputs": []
    },
    {
      "cell_type": "code",
      "source": [
        "#sample test\n",
        "from scipy.spatial import distance\n",
        "\n",
        "distance = euclidean_distance_to_all(\"19-music4.wav\", embeddings_dict)\n",
        "recall, precision_at_N, similar_sounds = evaluate_similarity(distance, \"music\", sound_labels, 1)\n",
        "print(recall, precision_at_N, similar_sounds)"
      ],
      "metadata": {
        "colab": {
          "base_uri": "https://localhost:8080/"
        },
        "id": "5SajSZp2lZaM",
        "outputId": "44284ca0-2969-4e12-db11-d5646919fb4f"
      },
      "execution_count": 180,
      "outputs": [
        {
          "output_type": "stream",
          "name": "stdout",
          "text": [
            "0.5 1.0 [('17-music1.wav', 'music')]\n"
          ]
        }
      ]
    },
    {
      "cell_type": "code",
      "source": [
        "from scipy.spatial import distance\n",
        "\n",
        "def calculate_overall_metrics(embeddings_dict, sound_labels, N=5):\n",
        "    all_precision = []\n",
        "    all_recall = []\n",
        "    all_precision_at_N = []\n",
        "\n",
        "    for target_id in embeddings_dict.keys():\n",
        "        distances = euclidean_distance_to_all(target_id, embeddings_dict)\n",
        "        target_label = sound_labels[target_id]\n",
        "        # Evaluate similarity metrics for this target\n",
        "        avg_recall, precision_at_N, similar_sounds = evaluate_similarity(distances, target_label, sound_labels, N)\n",
        "\n",
        "        # print(target_id, target_label, precision_at_N, similar_sounds)\n",
        "        # Collect the metrics for averaging\n",
        "        all_precision.append(avg_precision)\n",
        "        all_recall.append(avg_recall)\n",
        "        all_precision_at_N.append(precision_at_N)\n",
        "\n",
        "    # Compute the average metrics across all targets\n",
        "    mean_precision = np.mean(all_precision)\n",
        "    mean_recall = np.mean(all_recall)\n",
        "    mean_precision_at_N = np.mean(all_precision_at_N)\n",
        "\n",
        "    return mean_recall, mean_precision_at_N\n",
        "\n",
        "n = 2\n",
        "mean_recall, mean_precision_at_N = calculate_overall_metrics(embeddings_dict, sound_labels, n)\n",
        "\n",
        "print(f\"Mean Recall: {mean_recall}\")\n",
        "print(f\"Mean Precision @ {n}: {mean_precision_at_N}\")"
      ],
      "metadata": {
        "colab": {
          "base_uri": "https://localhost:8080/"
        },
        "id": "HPUOB9HrPsFF",
        "outputId": "50cf3535-5c3e-4e74-983e-d94b003a19e3"
      },
      "execution_count": 183,
      "outputs": [
        {
          "output_type": "stream",
          "name": "stdout",
          "text": [
            "Mean Recall: 0.8166666666666667\n",
            "Mean Precision @ 2: 0.7333333333333333\n"
          ]
        }
      ]
    }
  ]
}