{
  "nbformat": 4,
  "nbformat_minor": 0,
  "metadata": {
    "colab": {
      "provenance": [],
      "gpuType": "T4",
      "machine_shape": "hm",
      "authorship_tag": "ABX9TyMLWkaggx47toCk1W7ldnHR",
      "include_colab_link": true
    },
    "kernelspec": {
      "name": "python3",
      "display_name": "Python 3"
    },
    "language_info": {
      "name": "python"
    }
  },
  "cells": [
    {
      "cell_type": "markdown",
      "metadata": {
        "id": "view-in-github",
        "colab_type": "text"
      },
      "source": [
        "<a href=\"https://colab.research.google.com/github/Jerry086/SALSA/blob/Shiqing_audioset_embedding_checking/Hierarchical_and_dbscan.ipynb\" target=\"_parent\"><img src=\"https://colab.research.google.com/assets/colab-badge.svg\" alt=\"Open In Colab\"/></a>"
      ]
    },
    {
      "cell_type": "code",
      "execution_count": 2,
      "metadata": {
        "colab": {
          "base_uri": "https://localhost:8080/"
        },
        "id": "1DnR5ht_B3SU",
        "outputId": "d78526c3-b7bb-4907-ac04-7723263b8251"
      },
      "outputs": [
        {
          "output_type": "stream",
          "name": "stdout",
          "text": [
            "Mounted at /content/drive\n"
          ]
        }
      ],
      "source": [
        "# Mount Google Drive\n",
        "from google.colab import drive\n",
        "drive.mount('/content/drive')"
      ]
    },
    {
      "cell_type": "code",
      "source": [
        "import pandas as pd\n",
        "\n",
        "metadata = pd.read_csv('/content/drive/MyDrive/audioset/audio_metadata.csv')\n",
        "embeddings = pd.read_csv('/content/drive/MyDrive/audioset/audio_embeddings.csv')\n",
        "\n",
        "merged_df = pd.merge(metadata, embeddings, on='video_id')\n",
        "\n",
        "# print(metadata.head())\n",
        "# print(embeddings.head())\n",
        "# print(merged_df.head())"
      ],
      "metadata": {
        "id": "_0rxgvp5CKF9"
      },
      "execution_count": 3,
      "outputs": []
    },
    {
      "cell_type": "code",
      "source": [
        "from sklearn.decomposition import PCA\n",
        "from sklearn.preprocessing import StandardScaler\n",
        "\n",
        "embeddings = merged_df.loc[:, 'feature_0':'feature_1279'].values\n",
        "\n",
        "scaler = StandardScaler()\n",
        "embeddings_scaled = scaler.fit_transform(embeddings)\n",
        "\n",
        "# Initialize PCA\n",
        "pca = PCA(n_components=128)\n",
        "\n",
        "# Fit PCA on embeddings\n",
        "reduced_embeddings = pca.fit_transform(embeddings_scaled)\n",
        "\n",
        "# Check the shape of the reduced embeddings\n",
        "print(reduced_embeddings.shape)"
      ],
      "metadata": {
        "colab": {
          "base_uri": "https://localhost:8080/"
        },
        "id": "Qb2QoBqPHA2P",
        "outputId": "cb6dec8e-b039-4cc2-c692-7dbdc9055e6f"
      },
      "execution_count": 4,
      "outputs": [
        {
          "output_type": "stream",
          "name": "stdout",
          "text": [
            "(21782, 128)\n"
          ]
        }
      ]
    },
    {
      "cell_type": "markdown",
      "source": [
        "Try Hierarchical Clustering: Builds a hierarchy of clusters agglomeratively (bottom-up)"
      ],
      "metadata": {
        "id": "OwfdnNPXnL-D"
      }
    },
    {
      "cell_type": "code",
      "source": [
        "from sklearn.cluster import AgglomerativeClustering\n",
        "\n",
        "# Perform Hierarchical Clustering\n",
        "cluster = AgglomerativeClustering(distance_threshold=None, n_clusters=1450, linkage='ward')\n",
        "\n",
        "# Fit model\n",
        "cluster.fit(reduced_embeddings)\n",
        "\n",
        "# Add the cluster labels back to the merged DataFrame\n",
        "merged_df['cluster_label'] = cluster.labels_\n",
        "\n",
        "# Display the first few rows to verify\n",
        "print(merged_df.head())"
      ],
      "metadata": {
        "colab": {
          "base_uri": "https://localhost:8080/"
        },
        "id": "sh97_LtDHE69",
        "outputId": "e1569b21-2e9b-463d-bf13-52d49b844b17"
      },
      "execution_count": null,
      "outputs": [
        {
          "output_type": "stream",
          "name": "stdout",
          "text": [
            "      video_id  start_time_seconds  end_time_seconds          labels  \\\n",
            "0  wqoOX8K8DEU                30.0              40.0      [396, 397]   \n",
            "1  wqH6Sj_h948               120.0             130.0   [0, 441, 443]   \n",
            "2  wq1098my4zA               130.0             140.0  [27, 137, 271]   \n",
            "3  wqR7LHho-WE                10.0              20.0     [0, 22, 25]   \n",
            "4  wq6Me-UUbSc               360.0             370.0           [413]   \n",
            "\n",
            "   feature_0  feature_1  feature_2  feature_3  feature_4  feature_5  ...  \\\n",
            "0         89        255         19         54        240        199  ...   \n",
            "1         89         74        221        113         99        254  ...   \n",
            "2        224        124        142        123        113        144  ...   \n",
            "3        147        207        173        147        216         98  ...   \n",
            "4         70         90        168         90        220         90  ...   \n",
            "\n",
            "   feature_1271  feature_1272  feature_1273  feature_1274  feature_1275  \\\n",
            "0           152           255             0           194           190   \n",
            "1            38           255             0           255           255   \n",
            "2           116            62           197            89            51   \n",
            "3            81            91           123           192            51   \n",
            "4           184            83            32           131           167   \n",
            "\n",
            "   feature_1276  feature_1277  feature_1278  feature_1279  cluster_label  \n",
            "0             0            91           247           251            997  \n",
            "1           124            29             0           255            151  \n",
            "2           212            44           112           177            475  \n",
            "3           255           255           101             0            555  \n",
            "4           167           111           180           101            479  \n",
            "\n",
            "[5 rows x 1285 columns]\n"
          ]
        }
      ]
    },
    {
      "cell_type": "code",
      "source": [
        "cluster_size = merged_df['cluster_label'].value_counts()\n",
        "single_value_groups = cluster_size[cluster_size == 1].count()\n",
        "print(cluster_size)\n",
        "print(f\"Number of clusters with only one member: {single_value_groups}\")"
      ],
      "metadata": {
        "colab": {
          "base_uri": "https://localhost:8080/"
        },
        "id": "V0T-g-bpWjcI",
        "outputId": "19f3c6ff-bee0-4e31-cee2-9258a7f665de"
      },
      "execution_count": null,
      "outputs": [
        {
          "output_type": "stream",
          "name": "stdout",
          "text": [
            "864     98\n",
            "943     76\n",
            "2       61\n",
            "198     61\n",
            "80      53\n",
            "        ..\n",
            "1115     1\n",
            "1370     1\n",
            "1036     1\n",
            "848      1\n",
            "1281     1\n",
            "Name: cluster_label, Length: 1450, dtype: int64\n",
            "Number of clusters with only one member: 7\n"
          ]
        }
      ]
    },
    {
      "cell_type": "code",
      "source": [
        "# Analyze the labels for a specific cluster\n",
        "specific_cluster = merged_df[merged_df['cluster_label'] == 17]\n",
        "print(specific_cluster['labels'].value_counts())"
      ],
      "metadata": {
        "id": "GqmspA-TW-yh"
      },
      "execution_count": null,
      "outputs": []
    },
    {
      "cell_type": "code",
      "source": [
        "# a high value indicates that the object is well matched to its own cluster and poorly matched to neighboring clusters.\n",
        "from sklearn.metrics import silhouette_score\n",
        "\n",
        "# Calculate the silhouette score\n",
        "score = silhouette_score(reduced_embeddings, cluster.labels_)\n",
        "print('Silhouette Score: %.3f' % score)"
      ],
      "metadata": {
        "colab": {
          "base_uri": "https://localhost:8080/"
        },
        "id": "ZE6vcMQeTj5b",
        "outputId": "7649007f-6fe6-4880-8da0-97af714cd8e1"
      },
      "execution_count": null,
      "outputs": [
        {
          "output_type": "stream",
          "name": "stdout",
          "text": [
            "Silhouette Score: 0.031\n"
          ]
        }
      ]
    },
    {
      "cell_type": "code",
      "source": [
        "# A lower Davies-Bouldin index relates to a model with better separation between the clusters.\n",
        "from sklearn.metrics import davies_bouldin_score\n",
        "\n",
        "# Calculate the Davies-Bouldin index\n",
        "db_index = davies_bouldin_score(reduced_embeddings, cluster.labels_)\n",
        "print('Davies-Bouldin Index:', db_index)"
      ],
      "metadata": {
        "colab": {
          "base_uri": "https://localhost:8080/"
        },
        "id": "1hvPO1pCT82n",
        "outputId": "0802a282-737f-4e7e-a3a9-5161534a2098"
      },
      "execution_count": null,
      "outputs": [
        {
          "output_type": "stream",
          "name": "stdout",
          "text": [
            "Davies-Bouldin Index: 2.3947606526146283\n"
          ]
        }
      ]
    },
    {
      "cell_type": "code",
      "source": [
        "# Calinski-Harabasz Index (the Variance Ratio Criterion), Higher scores indicate clusters are dense and well separated\n",
        "from sklearn.metrics import calinski_harabasz_score\n",
        "\n",
        "# Calculate the Calinski-Harabasz index\n",
        "ch_index = calinski_harabasz_score(reduced_embeddings, cluster.labels_)\n",
        "print('Calinski-Harabasz Index:', ch_index)"
      ],
      "metadata": {
        "colab": {
          "base_uri": "https://localhost:8080/"
        },
        "id": "pfFeB1xCUCLL",
        "outputId": "abafd505-3ca6-4c2d-8917-8479b66164d0"
      },
      "execution_count": null,
      "outputs": [
        {
          "output_type": "stream",
          "name": "stdout",
          "text": [
            "Calinski-Harabasz Index: 18.74815020940819\n"
          ]
        }
      ]
    },
    {
      "cell_type": "markdown",
      "source": [
        "For DBSCAN (Density-Based Spatial Clustering of Applications with Noise), it uses eps (the maximum distance between two samples for one to be considered as in the neighborhood of the other) and min_samples (the number of samples in a neighborhood for a point to be considered as a core point) to determine the clusters."
      ],
      "metadata": {
        "id": "dPMdVh9yz7Gc"
      }
    },
    {
      "cell_type": "code",
      "source": [
        "from sklearn.cluster import DBSCAN\n",
        "\n",
        "# Initialize DBSCAN\n",
        "# can adjust `eps` and `min_samples`\n",
        "dbscan = DBSCAN(eps=22.5, min_samples=28)\n",
        "\n",
        "# Fit DBSCAN on the reduced embeddings\n",
        "cluster_labels = dbscan.fit_predict(reduced_embeddings)\n",
        "\n",
        "# Add cluster labels to the DataFrame\n",
        "merged_df['cluster_label'] = cluster_labels\n",
        "\n",
        "# Display the first few rows to verify\n",
        "print(merged_df.head())"
      ],
      "metadata": {
        "id": "Gmxc-5pv0B4v",
        "colab": {
          "base_uri": "https://localhost:8080/"
        },
        "outputId": "da6caa3a-8d4b-4f09-d69b-c6dce663da84"
      },
      "execution_count": 84,
      "outputs": [
        {
          "output_type": "stream",
          "name": "stdout",
          "text": [
            "      video_id  start_time_seconds  end_time_seconds          labels  \\\n",
            "0  wqoOX8K8DEU                30.0              40.0      [396, 397]   \n",
            "1  wqH6Sj_h948               120.0             130.0   [0, 441, 443]   \n",
            "2  wq1098my4zA               130.0             140.0  [27, 137, 271]   \n",
            "3  wqR7LHho-WE                10.0              20.0     [0, 22, 25]   \n",
            "4  wq6Me-UUbSc               360.0             370.0           [413]   \n",
            "\n",
            "   feature_0  feature_1  feature_2  feature_3  feature_4  feature_5  ...  \\\n",
            "0         89        255         19         54        240        199  ...   \n",
            "1         89         74        221        113         99        254  ...   \n",
            "2        224        124        142        123        113        144  ...   \n",
            "3        147        207        173        147        216         98  ...   \n",
            "4         70         90        168         90        220         90  ...   \n",
            "\n",
            "   feature_1271  feature_1272  feature_1273  feature_1274  feature_1275  \\\n",
            "0           152           255             0           194           190   \n",
            "1            38           255             0           255           255   \n",
            "2           116            62           197            89            51   \n",
            "3            81            91           123           192            51   \n",
            "4           184            83            32           131           167   \n",
            "\n",
            "   feature_1276  feature_1277  feature_1278  feature_1279  cluster_label  \n",
            "0             0            91           247           251             -1  \n",
            "1           124            29             0           255              0  \n",
            "2           212            44           112           177              0  \n",
            "3           255           255           101             0              0  \n",
            "4           167           111           180           101              0  \n",
            "\n",
            "[5 rows x 1285 columns]\n"
          ]
        }
      ]
    },
    {
      "cell_type": "code",
      "source": [
        "import numpy as np\n",
        "\n",
        "# Count the number of unique clusters (excluding noise points labeled as -1)\n",
        "num_clusters = len(set(cluster_labels)) - (1 if -1 in cluster_labels else 0)\n",
        "\n",
        "# Count the number of noise points (points labeled as -1)\n",
        "num_noise_points = list(cluster_labels).count(-1)\n",
        "\n",
        "print(f\"Number of clusters: {num_clusters}\")\n",
        "print(f\"Number of noise points: {num_noise_points}\")"
      ],
      "metadata": {
        "id": "0LVJMbYeBngo",
        "colab": {
          "base_uri": "https://localhost:8080/"
        },
        "outputId": "81b182c2-e7b4-4fbb-ac5c-cfe48fca498c"
      },
      "execution_count": 85,
      "outputs": [
        {
          "output_type": "stream",
          "name": "stdout",
          "text": [
            "Number of clusters: 4\n",
            "Number of noise points: 5156\n"
          ]
        }
      ]
    },
    {
      "cell_type": "code",
      "source": [
        "import pandas as pd\n",
        "\n",
        "# Assuming 'merged_df' is your DataFrame and 'cluster_label' is the column with DBSCAN labels\n",
        "cluster_counts = merged_df['cluster_label'].value_counts()\n",
        "print(cluster_counts)"
      ],
      "metadata": {
        "colab": {
          "base_uri": "https://localhost:8080/"
        },
        "id": "yEjbwHU2Ld-U",
        "outputId": "bae73684-b88c-4a69-f092-370103a98dc3"
      },
      "execution_count": 86,
      "outputs": [
        {
          "output_type": "stream",
          "name": "stdout",
          "text": [
            " 0    16547\n",
            "-1     5156\n",
            " 1       35\n",
            " 2       24\n",
            " 3       20\n",
            "Name: cluster_label, dtype: int64\n"
          ]
        }
      ]
    }
  ]
}